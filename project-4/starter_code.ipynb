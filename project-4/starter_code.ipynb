{
 "cells": [
  {
   "cell_type": "markdown",
   "metadata": {
    "focus": false,
    "id": "69b9a648-bcc7-490d-9f9b-ea244d156bd6"
   },
   "source": [
    "<img src=\"http://imgur.com/1ZcRyrc.png\" style=\"float: left; margin: 15px; height: 80px\">\n",
    "\n",
    "\n",
    "# Web Scraping for Indeed.com and Predicting Salaries"
   ]
  },
  {
   "cell_type": "markdown",
   "metadata": {},
   "source": [
    "### Business Case Overview\n",
    "\n",
    "You're working as a data scientist for a contracting firm that's rapidly expanding. Now that they have their most valuable employee (you!), they need to leverage data to win more contracts. Your firm offers technology and scientific solutions and wants to be competitive in the hiring market. Your principal wants you to\n",
    "\n",
    "   - determine the industry factors that are most important in predicting the salary amounts for these data.\n",
    "\n",
    "To limit the scope, your principal has suggested that you *focus on data-related job postings*, e.g. data scientist, data analyst, research scientist, business intelligence, and any others you might think of. You may also want to decrease the scope by *limiting your search to a single region.*\n",
    "\n",
    "Hint: Aggregators like [Indeed.com](https://www.indeed.com) regularly pool job postings from a variety of markets and industries.\n",
    "\n",
    "**Goal:** Scrape your own data from a job aggregation tool like Indeed.com in order to collect the data to best answer this question.\n",
    "\n",
    "---\n",
    "\n",
    "### Directions\n",
    "\n",
    "In this project you will be leveraging a variety of skills. The first will be to use the web-scraping and/or API techniques you've learned to collect data on data jobs from Indeed.com or another aggregator. Once you have collected and cleaned the data, you will use it to address the question above."
   ]
  },
  {
   "cell_type": "markdown",
   "metadata": {},
   "source": [
    "### Factors that impact salary\n",
    "\n",
    "To predict salary the most appropriate approach would be a regression model.\n",
    "Here instead we just want to estimate which factors (like location, job title, job level, industry sector) lead to high or low salary and work with a classification model. To do so, split the salary into two groups of high and low salary, for example by choosing the median salary as a threshold (in principle you could choose any single or multiple splitting points).\n",
    "\n",
    "Use all the skills you have learned so far to build a predictive model.\n",
    "Whatever you decide to use, the most important thing is to justify your choices and interpret your results. *Communication of your process is key.* Note that most listings **DO NOT** come with salary information. You'll need to be able to extrapolate or predict the expected salaries for these listings."
   ]
  },
  {
   "cell_type": "markdown",
   "metadata": {
    "focus": false,
    "id": "a948d79c-5527-4c0d-ab23-f5d43ce72056"
   },
   "source": [
    "### Scraping job listings from Indeed.com"
   ]
  },
  {
   "cell_type": "markdown",
   "metadata": {
    "focus": true,
    "id": "7203e0c9-e437-4802-a6ad-7dc464f94436"
   },
   "source": [
    "We will be scraping job listings from Indeed.com using BeautifulSoup. Luckily, Indeed.com is a simple text page where we can easily find relevant entries.\n",
    "\n",
    "First, look at the source of an Indeed.com page: (http://www.indeed.com/jobs?q=data+scientist+%2420%2C000&l=New+York&start=10\").\n",
    "\n",
    "Notice, each job listing is underneath a `div` tag with a class name of `result`. We can use BeautifulSoup to extract those. "
   ]
  },
  {
   "cell_type": "markdown",
   "metadata": {
    "focus": false,
    "id": "9732c901-ae26-4160-8376-42e22dd327df"
   },
   "source": [
    "#### Setup a request (using `requests`) to the URL below. Use BeautifulSoup to parse the page and extract all results (HINT: Look for div tags with class name result)\n",
    "\n",
    "The URL here has many query parameters:\n",
    "\n",
    "- `q` for the job search\n",
    "- This is followed by \"+20,000\" to return results with salaries (or expected salaries >$20,000)\n",
    "- `l` for a location \n",
    "- `start` for what result number to start on"
   ]
  },
  {
   "cell_type": "code",
   "execution_count": null,
   "metadata": {
    "ExecuteTime": {
     "end_time": "2020-04-06T16:25:06.788584Z",
     "start_time": "2020-04-06T16:25:06.778522Z"
    },
    "focus": false,
    "id": "e915023e-6b0d-4982-af2a-b1e0355f4927"
   },
   "outputs": [],
   "source": [
    "#URL = \"http://www.indeed.com/jobs?q=data+scientist+%2420%2C000&l=New+York&start=10\""
   ]
  },
  {
   "cell_type": "code",
   "execution_count": 1,
   "metadata": {
    "ExecuteTime": {
     "end_time": "2020-04-06T21:37:15.005753Z",
     "start_time": "2020-04-06T21:37:14.649348Z"
    },
    "focus": false,
    "id": "2efefc73-064a-482d-b3b5-ddf5508cb4ec"
   },
   "outputs": [],
   "source": [
    "import requests\n",
    "import bs4\n",
    "from bs4 import BeautifulSoup"
   ]
  },
  {
   "cell_type": "code",
   "execution_count": 2,
   "metadata": {
    "ExecuteTime": {
     "end_time": "2020-04-06T21:37:15.651064Z",
     "start_time": "2020-04-06T21:37:15.089222Z"
    }
   },
   "outputs": [],
   "source": [
    "import pandas as pd\n",
    "import numpy as np\n",
    "from bs4 import BeautifulSoup\n",
    "import requests\n",
    "from tqdm import tqdm"
   ]
  },
  {
   "cell_type": "code",
   "execution_count": 3,
   "metadata": {
    "ExecuteTime": {
     "end_time": "2020-04-06T21:37:16.813965Z",
     "start_time": "2020-04-06T21:37:16.703116Z"
    }
   },
   "outputs": [
    {
     "ename": "NameError",
     "evalue": "name 'URL' is not defined",
     "output_type": "error",
     "traceback": [
      "\u001b[0;31m---------------------------------------------------------------------------\u001b[0m",
      "\u001b[0;31mNameError\u001b[0m                                 Traceback (most recent call last)",
      "\u001b[0;32m<ipython-input-3-082193e19b6d>\u001b[0m in \u001b[0;36m<module>\u001b[0;34m\u001b[0m\n\u001b[0;32m----> 1\u001b[0;31m \u001b[0mr\u001b[0m \u001b[0;34m=\u001b[0m \u001b[0mrequests\u001b[0m\u001b[0;34m.\u001b[0m\u001b[0mget\u001b[0m\u001b[0;34m(\u001b[0m\u001b[0mURL\u001b[0m\u001b[0;34m)\u001b[0m\u001b[0;34m\u001b[0m\u001b[0;34m\u001b[0m\u001b[0m\n\u001b[0m\u001b[1;32m      2\u001b[0m \u001b[0msoup\u001b[0m \u001b[0;34m=\u001b[0m \u001b[0mBeautifulSoup\u001b[0m\u001b[0;34m(\u001b[0m\u001b[0mr\u001b[0m\u001b[0;34m.\u001b[0m\u001b[0mtext\u001b[0m\u001b[0;34m,\u001b[0m \u001b[0;34m'html.parser'\u001b[0m\u001b[0;34m)\u001b[0m\u001b[0;34m\u001b[0m\u001b[0;34m\u001b[0m\u001b[0m\n",
      "\u001b[0;31mNameError\u001b[0m: name 'URL' is not defined"
     ]
    }
   ],
   "source": [
    "r = requests.get(URL)\n",
    "soup = BeautifulSoup(r.text, 'html.parser')"
   ]
  },
  {
   "cell_type": "code",
   "execution_count": 4,
   "metadata": {
    "ExecuteTime": {
     "end_time": "2020-04-06T21:37:17.210623Z",
     "start_time": "2020-04-06T21:37:17.201796Z"
    }
   },
   "outputs": [
    {
     "ename": "NameError",
     "evalue": "name 'soup' is not defined",
     "output_type": "error",
     "traceback": [
      "\u001b[0;31m---------------------------------------------------------------------------\u001b[0m",
      "\u001b[0;31mNameError\u001b[0m                                 Traceback (most recent call last)",
      "\u001b[0;32m<ipython-input-4-b38c64f502d1>\u001b[0m in \u001b[0;36m<module>\u001b[0;34m\u001b[0m\n\u001b[0;32m----> 1\u001b[0;31m \u001b[0mprint\u001b[0m\u001b[0;34m(\u001b[0m\u001b[0msoup\u001b[0m\u001b[0;34m.\u001b[0m\u001b[0mprettify\u001b[0m\u001b[0;34m(\u001b[0m\u001b[0;34m)\u001b[0m\u001b[0;34m[\u001b[0m\u001b[0;34m:\u001b[0m\u001b[0;36m1000\u001b[0m\u001b[0;34m]\u001b[0m\u001b[0;34m)\u001b[0m\u001b[0;34m\u001b[0m\u001b[0;34m\u001b[0m\u001b[0m\n\u001b[0m",
      "\u001b[0;31mNameError\u001b[0m: name 'soup' is not defined"
     ]
    }
   ],
   "source": [
    "print(soup.prettify()[:1000])"
   ]
  },
  {
   "cell_type": "markdown",
   "metadata": {
    "focus": false,
    "id": "bb0b866a-26a7-45e9-8084-5a0f90eb4b3e"
   },
   "source": [
    "Let's look at one result more closely. A single `result` looks like\n",
    "\n",
    "```\n",
    "<div class=\" row result\" data-jk=\"2480d203f7e97210\" data-tn-component=\"organicJob\" id=\"p_2480d203f7e97210\" itemscope=\"\" itemtype=\"http://schema.org/JobPosting\">\n",
    "<h2 class=\"jobtitle\" id=\"jl_2480d203f7e97210\">\n",
    "<a class=\"turnstileLink\" data-tn-element=\"jobTitle\" onmousedown=\"return rclk(this,jobmap[0],1);\" rel=\"nofollow\" target=\"_blank\" title=\"AVP/Quantitative Analyst\">AVP/Quantitative Analyst</a>\n",
    "</h2>\n",
    "<span class=\"company\" itemprop=\"hiringOrganization\" itemtype=\"http://schema.org/Organization\">\n",
    "<span itemprop=\"name\">\n",
    "<a href=\"/cmp/Alliancebernstein?from=SERP&amp;campaignid=serp-linkcompanyname&amp;fromjk=2480d203f7e97210&amp;jcid=b374f2a780e04789\" target=\"_blank\">\n",
    "    AllianceBernstein</a></span>\n",
    "</span>\n",
    "<tr>\n",
    "<td class=\"snip\">\n",
    "<nobr>$117,500 - $127,500 a year</nobr>\n",
    "<div>\n",
    "<span class=\"summary\" itemprop=\"description\">\n",
    "C onduct quantitative and statistical research as well as portfolio management for various investment portfolios. Collaborate with Quantitative Analysts and</span>\n",
    "</div>\n",
    "</div>\n",
    "</td>\n",
    "</tr>\n",
    "</table>\n",
    "</div>\n",
    "```\n",
    "\n",
    "While this has some more verbose elements removed, we can see that there is some structure to the above:\n",
    "- The salary is in a `span` with `class='salaryText'`.\n",
    "- The title of a job is in a link with class set to `jobtitle` and a `data-tn-element='jobTitle'`.  \n",
    "- The location is set in a `span` with `class='location'`. \n",
    "- The company is set in a `span` with `class='company'`. \n",
    "- Decide which other components could be relevant, for example the region or the summary of the job advert."
   ]
  },
  {
   "cell_type": "markdown",
   "metadata": {
    "focus": false,
    "id": "f1eddb90-4ba8-483c-a229-77e93aa53119"
   },
   "source": [
    "### Write 4 functions to extract each item: location, company, job, and salary.\n",
    "\n",
    "Example: \n",
    "```python\n",
    "def extract_location_from_result(result):\n",
    "    return result.find ...\n",
    "```\n",
    "\n",
    "\n",
    "- **Make sure these functions are robust and can handle cases where the data/field may not be available.**\n",
    "    - Remember to check if a field is empty or `None` for attempting to call methods on it.\n",
    "    - Remember to use `try/except` if you anticipate errors.\n",
    "- **Test** the functions on the results above and simple examples."
   ]
  },
  {
   "cell_type": "code",
   "execution_count": 5,
   "metadata": {
    "ExecuteTime": {
     "end_time": "2020-04-06T21:37:36.516601Z",
     "start_time": "2020-04-06T21:37:36.513160Z"
    },
    "focus": false,
    "id": "a1af53c9-9090-494f-b82e-cadb60a54909"
   },
   "outputs": [],
   "source": [
    "def extract_location_from_result(result):\n",
    "    return result.find('span', attrs={'class':'location'}).text.replace('\\n','').strip()"
   ]
  },
  {
   "cell_type": "code",
   "execution_count": 6,
   "metadata": {
    "ExecuteTime": {
     "end_time": "2020-04-06T21:37:36.826115Z",
     "start_time": "2020-04-06T21:37:36.822668Z"
    }
   },
   "outputs": [],
   "source": [
    "def extract_company_from_result(result):\n",
    "    return result.find('span', attrs={'class':'company'}).text.replace('\\n','').strip()"
   ]
  },
  {
   "cell_type": "code",
   "execution_count": 7,
   "metadata": {
    "ExecuteTime": {
     "end_time": "2020-04-06T21:37:37.119826Z",
     "start_time": "2020-04-06T21:37:37.116750Z"
    }
   },
   "outputs": [],
   "source": [
    "def extract_job_from_result(result):\n",
    "    return result.find('a', attrs={'target':'_blank'}).text.replace('\\n','').strip()"
   ]
  },
  {
   "cell_type": "code",
   "execution_count": 8,
   "metadata": {
    "ExecuteTime": {
     "end_time": "2020-04-06T21:37:37.394899Z",
     "start_time": "2020-04-06T21:37:37.391760Z"
    }
   },
   "outputs": [],
   "source": [
    "def extract_salary_from_result(result):\n",
    "    return result.find('span', attrs={'class':'salaryText'}).text.replace('\\n','').strip()"
   ]
  },
  {
   "cell_type": "markdown",
   "metadata": {
    "focus": false,
    "id": "34070e89-9521-4b45-90c8-57a6599aac68"
   },
   "source": [
    "Now, to scale up our scraping, we need to accumulate more results. We can do this by examining the URL above.\n",
    "\n",
    "- \"http://www.indeed.com/jobs?q=data+scientist+%2420%2C000&l=New+York&start=10\"\n",
    "\n",
    "There are two query parameters here we can alter to collect more results, the `l=New+York` and the `start=10`. The first controls the location of the results (so we can try a different city). The second controls where in the results to start and gives 10 results (thus, we can keep incrementing by 10 to go further in the list)."
   ]
  },
  {
   "cell_type": "markdown",
   "metadata": {
    "focus": false,
    "id": "e8beed7c-3e42-40c0-810f-5f67f8f885a0"
   },
   "source": [
    "### Complete the following code to collect results from multiple cities and starting points. \n",
    "- Enter your city below to add it to the search.\n",
    "- Remember to convert your salary to U.S. Dollars to match the other cities if the currency is different."
   ]
  },
  {
   "cell_type": "code",
   "execution_count": 9,
   "metadata": {
    "ExecuteTime": {
     "end_time": "2020-04-06T21:37:38.422334Z",
     "start_time": "2020-04-06T21:37:38.419713Z"
    },
    "focus": false,
    "id": "a9aa87ec-3575-4a01-a986-eb684f2c47d0"
   },
   "outputs": [],
   "source": [
    "YOUR_CITY = 'London'"
   ]
  },
  {
   "cell_type": "code",
   "execution_count": 10,
   "metadata": {
    "ExecuteTime": {
     "end_time": "2020-04-06T21:37:39.019722Z",
     "start_time": "2020-04-06T21:37:39.015824Z"
    },
    "focus": false,
    "id": "04b0f9af-540e-402f-8292-81748707c676"
   },
   "outputs": [],
   "source": [
    "url_template = \"http://www.indeed.com/jobs?q=data+scientist+%2420%2C000&l={}&start={}\"\n",
    "max_results_per_city = 100 # Set this to a high-value (5000) to generate more results. \n",
    "# Crawling more results, will also take much longer. First test your code on a small number of results and then expand.\n",
    "\n",
    "results = []\n",
    "\n",
    "for city in set(['New+York', 'Chicago', 'San+Francisco', 'Austin', 'Seattle', \n",
    "    'Los+Angeles', 'Philadelphia', 'Atlanta', 'Dallas', 'Pittsburgh', \n",
    "    'Portland', 'Phoenix', 'Denver', 'Houston', 'Miami', YOUR_CITY]):\n",
    "    for start in range(0, max_results_per_city, 10):\n",
    "        # Grab the results from the request (as above)\n",
    "        # Append to the full set of results\n",
    "        pass"
   ]
  },
  {
   "cell_type": "markdown",
   "metadata": {
    "focus": false,
    "id": "20339c09-5032-4e27-91be-286e9b46cd13"
   },
   "source": [
    "#### Use the functions you wrote above to parse out the 4 fields - location, title, company and salary. Create a dataframe from the results with those 4 columns."
   ]
  },
  {
   "cell_type": "code",
   "execution_count": 12,
   "metadata": {
    "ExecuteTime": {
     "end_time": "2020-04-06T21:40:29.787321Z",
     "start_time": "2020-04-06T21:37:40.042528Z"
    },
    "focus": false,
    "id": "6e259594-1c52-436b-ab9e-527e071941c1",
    "scrolled": true
   },
   "outputs": [
    {
     "name": "stderr",
     "output_type": "stream",
     "text": [
      "100%|██████████| 10/10 [00:03<00:00,  3.23it/s]\n",
      "100%|██████████| 10/10 [00:03<00:00,  3.10it/s]\n",
      "100%|██████████| 10/10 [00:03<00:00,  3.02it/s]\n",
      "100%|██████████| 10/10 [00:03<00:00,  2.88it/s]\n",
      "100%|██████████| 10/10 [00:03<00:00,  3.15it/s]\n",
      "100%|██████████| 10/10 [00:04<00:00,  2.10it/s]\n",
      "100%|██████████| 10/10 [00:03<00:00,  3.06it/s]\n",
      "100%|██████████| 10/10 [00:04<00:00,  2.34it/s]\n",
      "100%|██████████| 10/10 [00:02<00:00,  3.62it/s]\n",
      "100%|██████████| 10/10 [00:03<00:00,  3.08it/s]\n",
      "100%|██████████| 10/10 [00:02<00:00,  3.59it/s]\n",
      "100%|██████████| 10/10 [00:02<00:00,  3.78it/s]\n",
      "100%|██████████| 10/10 [00:03<00:00,  2.59it/s]\n",
      "100%|██████████| 10/10 [00:03<00:00,  3.27it/s]\n",
      "100%|██████████| 10/10 [00:03<00:00,  3.07it/s]\n",
      "100%|██████████| 10/10 [00:02<00:00,  3.41it/s]\n",
      "100%|██████████| 10/10 [00:03<00:00,  3.26it/s]\n",
      "100%|██████████| 10/10 [00:03<00:00,  2.56it/s]\n",
      "100%|██████████| 10/10 [00:03<00:00,  2.90it/s]\n",
      "100%|██████████| 10/10 [00:04<00:00,  2.48it/s]\n",
      "100%|██████████| 10/10 [00:04<00:00,  2.09it/s]\n",
      "100%|██████████| 10/10 [00:06<00:00,  1.55it/s]\n",
      "100%|██████████| 10/10 [00:04<00:00,  2.02it/s]\n",
      "100%|██████████| 10/10 [00:04<00:00,  2.01it/s]\n",
      "100%|██████████| 10/10 [00:04<00:00,  2.37it/s]\n",
      "100%|██████████| 10/10 [00:04<00:00,  2.17it/s]\n",
      "100%|██████████| 10/10 [00:04<00:00,  2.27it/s]\n",
      "100%|██████████| 10/10 [00:06<00:00,  1.53it/s]\n",
      "100%|██████████| 10/10 [00:03<00:00,  2.59it/s]\n",
      "100%|██████████| 10/10 [00:04<00:00,  2.12it/s]\n",
      "100%|██████████| 10/10 [00:07<00:00,  1.40it/s]\n",
      "100%|██████████| 10/10 [00:09<00:00,  1.09it/s]\n",
      "100%|██████████| 10/10 [00:06<00:00,  1.61it/s]\n",
      "100%|██████████| 10/10 [00:04<00:00,  2.16it/s]\n",
      "100%|██████████| 10/10 [00:04<00:00,  2.28it/s]\n",
      "100%|██████████| 10/10 [00:04<00:00,  2.49it/s]\n",
      "100%|██████████| 10/10 [00:03<00:00,  2.73it/s]\n",
      "100%|██████████| 10/10 [00:04<00:00,  2.34it/s]\n",
      "100%|██████████| 10/10 [00:04<00:00,  2.18it/s]\n",
      "100%|██████████| 10/10 [00:04<00:00,  2.25it/s]\n"
     ]
    }
   ],
   "source": [
    "job = []\n",
    "company = []\n",
    "location = []\n",
    "salary = []\n",
    "description = []\n",
    "rating = []\n",
    "\n",
    "max_results_per_city = 100\n",
    "for jobs in set(['data+analyst', 'data+scientist', 'junior+data+scientist', 'junior+data+analyst']):\n",
    "    for city in set(['Bristol', 'Birmingham', 'Oxford', 'Cambridge', 'Newcastle', \n",
    "        'Manchester', 'Leeds', 'Nottingham', 'Edinburgh', 'Glasgow']):\n",
    "        for x in tqdm(range(0,max_results_per_city,10)):\n",
    "            URL = f\"http://www.indeed.co.uk/jobs?q={jobs}&l={city}&start={x}\"\n",
    "            r = requests.get(URL)\n",
    "            soup = BeautifulSoup(r.text, 'html.parser')\n",
    "\n",
    "            for listing in soup.find_all('div', attrs={'class':'result'}):\n",
    "                try:\n",
    "                    job.append(listing.find('a', attrs={'target':'_blank'}).text.replace('\\n','').strip())\n",
    "                except:\n",
    "                    job.append(np.nan)\n",
    "\n",
    "                try:\n",
    "                    company.append(listing.find('span', attrs={'class':'company'}).text.replace('\\n','').strip())\n",
    "                except:\n",
    "                    company.append(np.nan)\n",
    "\n",
    "                try:\n",
    "                    location.append(listing.find('span', attrs={'class':'location'}).text.replace('\\n','').strip())\n",
    "                except:\n",
    "                    location.append(np.nan)\n",
    "\n",
    "                try:\n",
    "                    salary.append(listing.find('span', attrs={'class':'salaryText'}).text.replace('\\n','').strip())\n",
    "                except:\n",
    "                    salary.append(np.nan)\n",
    "\n",
    "                try:\n",
    "                    description.append(listing.find('div', attrs={'class':'summary'}).text.replace('\\n','').strip())\n",
    "                except:\n",
    "                    description.append(np.nan)\n",
    "\n",
    "                try:\n",
    "                    rating.append(listing.find('span', attrs={'class':'ratingsContent'}).text.replace('\\n','').strip())\n",
    "                except:\n",
    "                    rating.append(np.nan)\n",
    "\n",
    "df = pd.DataFrame({'company':company, 'job':job, 'location':location, 'salary':salary, 'description':description, 'rating':rating})"
   ]
  },
  {
   "cell_type": "code",
   "execution_count": 13,
   "metadata": {
    "ExecuteTime": {
     "end_time": "2020-04-06T21:41:18.575469Z",
     "start_time": "2020-04-06T21:41:18.567732Z"
    },
    "scrolled": true
   },
   "outputs": [
    {
     "data": {
      "text/plain": [
       "(3930, 6)"
      ]
     },
     "execution_count": 13,
     "metadata": {},
     "output_type": "execute_result"
    }
   ],
   "source": [
    "df.shape"
   ]
  },
  {
   "cell_type": "code",
   "execution_count": 14,
   "metadata": {
    "ExecuteTime": {
     "end_time": "2020-04-06T21:41:19.589065Z",
     "start_time": "2020-04-06T21:41:19.577558Z"
    }
   },
   "outputs": [
    {
     "data": {
      "text/plain": [
       "(1199, 6)"
      ]
     },
     "execution_count": 14,
     "metadata": {},
     "output_type": "execute_result"
    }
   ],
   "source": [
    "df.drop_duplicates(keep='first', inplace=True)\n",
    "df.shape\n",
    "# dropped all duplicates, only keeping the first of the duplicates - this has removed around 2/3 of the total rows"
   ]
  },
  {
   "cell_type": "markdown",
   "metadata": {
    "focus": false,
    "id": "ff98ce64-78a7-441f-a675-63464e32c834"
   },
   "source": [
    "Lastly, we need to clean up salary data. \n",
    "\n",
    "1. Only a small number of the scraped results have salary information - only these will be used for modeling.\n",
    "1. Some of the salaries are not yearly but hourly or weekly, these will not be useful to us for now.\n",
    "1. Some of the entries may be duplicated.\n",
    "1. The salaries are given as text and usually with ranges."
   ]
  },
  {
   "cell_type": "markdown",
   "metadata": {
    "focus": false,
    "id": "ff98ce64-78a7-441f-a675-63464e32c834"
   },
   "source": [
    "#### Find the entries with annual salary entries, by filtering the entries without salaries or salaries that are not yearly (filter those that refer to hour or week). Also, remove duplicate entries."
   ]
  },
  {
   "cell_type": "code",
   "execution_count": 15,
   "metadata": {
    "ExecuteTime": {
     "end_time": "2020-04-06T21:41:22.539353Z",
     "start_time": "2020-04-06T21:41:22.532774Z"
    },
    "focus": false,
    "id": "58533e57-f86b-494a-b841-e7b59c6229c6"
   },
   "outputs": [
    {
     "data": {
      "text/plain": [
       "£40,000 - £50,000 a year    21\n",
       "£30,000 - £35,000 a year    15\n",
       "£30,000 a year              14\n",
       "£40,000 a year              14\n",
       "£25,000 - £30,000 a year    14\n",
       "                            ..\n",
       "£550 a day                   1\n",
       "£36,227 - £39,667 a year     1\n",
       "£37,500 a year               1\n",
       "£24,000 - £45,000 a year     1\n",
       "£14,250 a year               1\n",
       "Name: salary, Length: 240, dtype: int64"
      ]
     },
     "execution_count": 15,
     "metadata": {},
     "output_type": "execute_result"
    }
   ],
   "source": [
    "df.salary.value_counts()"
   ]
  },
  {
   "cell_type": "code",
   "execution_count": 16,
   "metadata": {
    "ExecuteTime": {
     "end_time": "2020-04-06T21:41:23.188971Z",
     "start_time": "2020-04-06T21:41:23.183585Z"
    },
    "scrolled": true
   },
   "outputs": [
    {
     "data": {
      "text/plain": [
       "company          0\n",
       "job              0\n",
       "location        63\n",
       "salary         620\n",
       "description      0\n",
       "rating         504\n",
       "dtype: int64"
      ]
     },
     "execution_count": 16,
     "metadata": {},
     "output_type": "execute_result"
    }
   ],
   "source": [
    "df.isnull().sum()"
   ]
  },
  {
   "cell_type": "code",
   "execution_count": 17,
   "metadata": {
    "ExecuteTime": {
     "end_time": "2020-04-06T21:41:23.841773Z",
     "start_time": "2020-04-06T21:41:23.836791Z"
    },
    "scrolled": true
   },
   "outputs": [
    {
     "data": {
      "text/plain": [
       "(1199, 6)"
      ]
     },
     "execution_count": 17,
     "metadata": {},
     "output_type": "execute_result"
    }
   ],
   "source": [
    "df.shape"
   ]
  },
  {
   "cell_type": "code",
   "execution_count": 18,
   "metadata": {
    "ExecuteTime": {
     "end_time": "2020-04-06T21:41:24.430276Z",
     "start_time": "2020-04-06T21:41:24.411264Z"
    },
    "scrolled": true
   },
   "outputs": [
    {
     "data": {
      "text/html": [
       "<div>\n",
       "<style scoped>\n",
       "    .dataframe tbody tr th:only-of-type {\n",
       "        vertical-align: middle;\n",
       "    }\n",
       "\n",
       "    .dataframe tbody tr th {\n",
       "        vertical-align: top;\n",
       "    }\n",
       "\n",
       "    .dataframe thead th {\n",
       "        text-align: right;\n",
       "    }\n",
       "</style>\n",
       "<table border=\"1\" class=\"dataframe\">\n",
       "  <thead>\n",
       "    <tr style=\"text-align: right;\">\n",
       "      <th></th>\n",
       "      <th>company</th>\n",
       "      <th>job</th>\n",
       "      <th>location</th>\n",
       "      <th>salary</th>\n",
       "      <th>description</th>\n",
       "      <th>rating</th>\n",
       "    </tr>\n",
       "  </thead>\n",
       "  <tbody>\n",
       "    <tr>\n",
       "      <td>0</td>\n",
       "      <td>FDM Group</td>\n",
       "      <td>Glasgow - Junior Business Intelligence Data An...</td>\n",
       "      <td>Glasgow</td>\n",
       "      <td>NaN</td>\n",
       "      <td>This could involve working with databases, dat...</td>\n",
       "      <td>2.9</td>\n",
       "    </tr>\n",
       "    <tr>\n",
       "      <td>1</td>\n",
       "      <td>NHS Scotland</td>\n",
       "      <td>Junior Technician - Student Placement</td>\n",
       "      <td>Glasgow</td>\n",
       "      <td>£19,945 - £21,947 a year</td>\n",
       "      <td>Current technologies include Oracle Exadata da...</td>\n",
       "      <td>3.9</td>\n",
       "    </tr>\n",
       "    <tr>\n",
       "      <td>2</td>\n",
       "      <td>Oliver James Associates</td>\n",
       "      <td>Charles River Technical Business Analyst</td>\n",
       "      <td>Glasgow</td>\n",
       "      <td>£600 - £700 a day</td>\n",
       "      <td>Ensure proper data processing using data check...</td>\n",
       "      <td>2.9</td>\n",
       "    </tr>\n",
       "    <tr>\n",
       "      <td>3</td>\n",
       "      <td>Hydrogen Group</td>\n",
       "      <td>Technical Data Business Analyst – Glasgow – Pe...</td>\n",
       "      <td>Glasgow</td>\n",
       "      <td>£30,000 - £44,000 a year</td>\n",
       "      <td>Technical Data Business Analyst – Glasgow – Pe...</td>\n",
       "      <td>3.2</td>\n",
       "    </tr>\n",
       "    <tr>\n",
       "      <td>4</td>\n",
       "      <td>Morgan Stanley</td>\n",
       "      <td>Cyber Analytics: Senior Analytics Developer</td>\n",
       "      <td>Glasgow</td>\n",
       "      <td>NaN</td>\n",
       "      <td>Passionate interest in data analytics and cybe...</td>\n",
       "      <td>3.9</td>\n",
       "    </tr>\n",
       "  </tbody>\n",
       "</table>\n",
       "</div>"
      ],
      "text/plain": [
       "                   company                                                job  \\\n",
       "0                FDM Group  Glasgow - Junior Business Intelligence Data An...   \n",
       "1             NHS Scotland              Junior Technician - Student Placement   \n",
       "2  Oliver James Associates           Charles River Technical Business Analyst   \n",
       "3           Hydrogen Group  Technical Data Business Analyst – Glasgow – Pe...   \n",
       "4           Morgan Stanley        Cyber Analytics: Senior Analytics Developer   \n",
       "\n",
       "  location                    salary  \\\n",
       "0  Glasgow                       NaN   \n",
       "1  Glasgow  £19,945 - £21,947 a year   \n",
       "2  Glasgow         £600 - £700 a day   \n",
       "3  Glasgow  £30,000 - £44,000 a year   \n",
       "4  Glasgow                       NaN   \n",
       "\n",
       "                                         description rating  \n",
       "0  This could involve working with databases, dat...    2.9  \n",
       "1  Current technologies include Oracle Exadata da...    3.9  \n",
       "2  Ensure proper data processing using data check...    2.9  \n",
       "3  Technical Data Business Analyst – Glasgow – Pe...    3.2  \n",
       "4  Passionate interest in data analytics and cybe...    3.9  "
      ]
     },
     "execution_count": 18,
     "metadata": {},
     "output_type": "execute_result"
    }
   ],
   "source": [
    "df.head()"
   ]
  },
  {
   "cell_type": "code",
   "execution_count": 26,
   "metadata": {
    "ExecuteTime": {
     "end_time": "2020-04-06T21:44:36.638788Z",
     "start_time": "2020-04-06T21:44:36.635082Z"
    }
   },
   "outputs": [],
   "source": [
    "df.drop(['rating'],axis=1, inplace=True)\n",
    "#dropping for now, since it will be too correlated with salary"
   ]
  },
  {
   "cell_type": "code",
   "execution_count": 27,
   "metadata": {
    "ExecuteTime": {
     "end_time": "2020-04-06T21:44:38.389733Z",
     "start_time": "2020-04-06T21:44:38.383956Z"
    }
   },
   "outputs": [],
   "source": [
    "df.dropna(inplace=True)"
   ]
  },
  {
   "cell_type": "code",
   "execution_count": 28,
   "metadata": {
    "ExecuteTime": {
     "end_time": "2020-04-06T21:44:39.634492Z",
     "start_time": "2020-04-06T21:44:39.631176Z"
    }
   },
   "outputs": [
    {
     "data": {
      "text/plain": [
       "(548, 5)"
      ]
     },
     "execution_count": 28,
     "metadata": {},
     "output_type": "execute_result"
    }
   ],
   "source": [
    "df.shape"
   ]
  },
  {
   "cell_type": "code",
   "execution_count": 30,
   "metadata": {
    "ExecuteTime": {
     "end_time": "2020-04-06T21:44:44.276582Z",
     "start_time": "2020-04-06T21:44:44.273335Z"
    }
   },
   "outputs": [],
   "source": [
    "salary = []\n",
    "for i in df['salary']:\n",
    "    if 'a year' in i:\n",
    "        salary.append(i)\n",
    "    else:\n",
    "        salary.append(np.nan)"
   ]
  },
  {
   "cell_type": "code",
   "execution_count": 31,
   "metadata": {
    "ExecuteTime": {
     "end_time": "2020-04-06T21:44:47.517587Z",
     "start_time": "2020-04-06T21:44:47.512949Z"
    }
   },
   "outputs": [
    {
     "data": {
      "text/plain": [
       "1       £19,945 - £21,947 a year\n",
       "2              £600 - £700 a day\n",
       "3       £30,000 - £44,000 a year\n",
       "50      £21,000 - £25,999 a year\n",
       "51      £21,000 - £25,999 a year\n",
       "                  ...           \n",
       "3913    £55,000 - £65,000 a year\n",
       "3914    £40,000 - £85,000 a year\n",
       "3918             £100,000 a year\n",
       "3924    £65,000 - £75,000 a year\n",
       "3929              £70,000 a year\n",
       "Name: salary, Length: 548, dtype: object"
      ]
     },
     "execution_count": 31,
     "metadata": {},
     "output_type": "execute_result"
    }
   ],
   "source": [
    "df.salary"
   ]
  },
  {
   "cell_type": "code",
   "execution_count": 32,
   "metadata": {
    "ExecuteTime": {
     "end_time": "2020-04-06T21:44:51.839612Z",
     "start_time": "2020-04-06T21:44:51.835984Z"
    }
   },
   "outputs": [],
   "source": [
    "df['salary_per_year']=salary"
   ]
  },
  {
   "cell_type": "code",
   "execution_count": 39,
   "metadata": {
    "ExecuteTime": {
     "end_time": "2020-04-06T21:46:51.638818Z",
     "start_time": "2020-04-06T21:46:51.633323Z"
    }
   },
   "outputs": [],
   "source": [
    "df.dropna(inplace=True)"
   ]
  },
  {
   "cell_type": "code",
   "execution_count": 41,
   "metadata": {
    "ExecuteTime": {
     "end_time": "2020-04-06T21:46:56.965804Z",
     "start_time": "2020-04-06T21:46:56.961953Z"
    }
   },
   "outputs": [
    {
     "data": {
      "text/plain": [
       "(495, 6)"
      ]
     },
     "execution_count": 41,
     "metadata": {},
     "output_type": "execute_result"
    }
   ],
   "source": [
    "df.shape"
   ]
  },
  {
   "cell_type": "code",
   "execution_count": 45,
   "metadata": {
    "ExecuteTime": {
     "end_time": "2020-04-06T21:48:04.812702Z",
     "start_time": "2020-04-06T21:48:04.809888Z"
    }
   },
   "outputs": [],
   "source": [
    "salary1 = []\n",
    "for i in df.salary_per_year:\n",
    "    salary1.append(i)"
   ]
  },
  {
   "cell_type": "markdown",
   "metadata": {
    "focus": false,
    "id": "7d4bc860-b214-4f75-9cd0-b234830b1ec2"
   },
   "source": [
    "#### Write a function that takes a salary string and converts it to a number, averaging a salary range if necessary."
   ]
  },
  {
   "cell_type": "code",
   "execution_count": 46,
   "metadata": {
    "ExecuteTime": {
     "end_time": "2020-04-06T21:48:08.173319Z",
     "start_time": "2020-04-06T21:48:08.169621Z"
    },
    "focus": false,
    "id": "a0f701e0-80bd-40ba-9101-4535860c0968"
   },
   "outputs": [],
   "source": [
    "low_sal = []\n",
    "high_sal = []\n",
    "def convert_salary(string):\n",
    "    res = [''.join(x for x in tc if x.isdigit() or x.isspace() or x == '.') for tc in string]\n",
    "    res = [x.split() for x in res]\n",
    "    res = [[float(j) for j in i] for i in res]\n",
    "    return res\n",
    "\n",
    "# this function will remove 'a year' from the end, convert the strings to floats, and return either a single number\n",
    "# or the salary range split as the low value and high value"
   ]
  },
  {
   "cell_type": "code",
   "execution_count": 47,
   "metadata": {
    "ExecuteTime": {
     "end_time": "2020-04-06T21:48:09.186836Z",
     "start_time": "2020-04-06T21:48:09.181334Z"
    }
   },
   "outputs": [],
   "source": [
    "average_salary = []\n",
    "for i in convert_salary(salary1):\n",
    "    average_salary.append(sum(i)/len(i))"
   ]
  },
  {
   "cell_type": "code",
   "execution_count": 48,
   "metadata": {
    "ExecuteTime": {
     "end_time": "2020-04-06T21:48:10.286822Z",
     "start_time": "2020-04-06T21:48:10.283162Z"
    }
   },
   "outputs": [
    {
     "data": {
      "text/plain": [
       "495"
      ]
     },
     "execution_count": 48,
     "metadata": {},
     "output_type": "execute_result"
    }
   ],
   "source": [
    "len(average_salary)\n",
    "# checking if I have lost any values - all looks good"
   ]
  },
  {
   "cell_type": "code",
   "execution_count": 49,
   "metadata": {
    "ExecuteTime": {
     "end_time": "2020-04-06T21:48:14.730404Z",
     "start_time": "2020-04-06T21:48:14.727356Z"
    }
   },
   "outputs": [],
   "source": [
    "df['average_salary'] = average_salary"
   ]
  },
  {
   "cell_type": "code",
   "execution_count": 50,
   "metadata": {
    "ExecuteTime": {
     "end_time": "2020-04-06T21:48:17.334557Z",
     "start_time": "2020-04-06T21:48:17.323270Z"
    }
   },
   "outputs": [
    {
     "data": {
      "text/html": [
       "<div>\n",
       "<style scoped>\n",
       "    .dataframe tbody tr th:only-of-type {\n",
       "        vertical-align: middle;\n",
       "    }\n",
       "\n",
       "    .dataframe tbody tr th {\n",
       "        vertical-align: top;\n",
       "    }\n",
       "\n",
       "    .dataframe thead th {\n",
       "        text-align: right;\n",
       "    }\n",
       "</style>\n",
       "<table border=\"1\" class=\"dataframe\">\n",
       "  <thead>\n",
       "    <tr style=\"text-align: right;\">\n",
       "      <th></th>\n",
       "      <th>company</th>\n",
       "      <th>job</th>\n",
       "      <th>location</th>\n",
       "      <th>salary</th>\n",
       "      <th>description</th>\n",
       "      <th>salary_per_year</th>\n",
       "      <th>average_salary</th>\n",
       "    </tr>\n",
       "  </thead>\n",
       "  <tbody>\n",
       "    <tr>\n",
       "      <td>1</td>\n",
       "      <td>NHS Scotland</td>\n",
       "      <td>Junior Technician - Student Placement</td>\n",
       "      <td>Glasgow</td>\n",
       "      <td>£19,945 - £21,947 a year</td>\n",
       "      <td>Current technologies include Oracle Exadata da...</td>\n",
       "      <td>£19,945 - £21,947 a year</td>\n",
       "      <td>20946.0</td>\n",
       "    </tr>\n",
       "    <tr>\n",
       "      <td>3</td>\n",
       "      <td>Hydrogen Group</td>\n",
       "      <td>Technical Data Business Analyst – Glasgow – Pe...</td>\n",
       "      <td>Glasgow</td>\n",
       "      <td>£30,000 - £44,000 a year</td>\n",
       "      <td>Technical Data Business Analyst – Glasgow – Pe...</td>\n",
       "      <td>£30,000 - £44,000 a year</td>\n",
       "      <td>37000.0</td>\n",
       "    </tr>\n",
       "    <tr>\n",
       "      <td>50</td>\n",
       "      <td>Sparta Global</td>\n",
       "      <td>Junior Data Analyst</td>\n",
       "      <td>Birmingham B2</td>\n",
       "      <td>£21,000 - £25,999 a year</td>\n",
       "      <td>Gather data from primary and secondary data so...</td>\n",
       "      <td>£21,000 - £25,999 a year</td>\n",
       "      <td>23499.5</td>\n",
       "    </tr>\n",
       "    <tr>\n",
       "      <td>51</td>\n",
       "      <td>Sparta Global</td>\n",
       "      <td>Junior Data Engineer</td>\n",
       "      <td>Birmingham B2</td>\n",
       "      <td>£21,000 - £25,999 a year</td>\n",
       "      <td>Gather data from primary and secondary data so...</td>\n",
       "      <td>£21,000 - £25,999 a year</td>\n",
       "      <td>23499.5</td>\n",
       "    </tr>\n",
       "    <tr>\n",
       "      <td>52</td>\n",
       "      <td>Mitchell Adam</td>\n",
       "      <td>Data Analyst</td>\n",
       "      <td>Birmingham</td>\n",
       "      <td>£25,000 - £30,000 a year</td>\n",
       "      <td>This position would be applicable for a number...</td>\n",
       "      <td>£25,000 - £30,000 a year</td>\n",
       "      <td>27500.0</td>\n",
       "    </tr>\n",
       "  </tbody>\n",
       "</table>\n",
       "</div>"
      ],
      "text/plain": [
       "           company                                                job  \\\n",
       "1     NHS Scotland              Junior Technician - Student Placement   \n",
       "3   Hydrogen Group  Technical Data Business Analyst – Glasgow – Pe...   \n",
       "50   Sparta Global                                Junior Data Analyst   \n",
       "51   Sparta Global                               Junior Data Engineer   \n",
       "52   Mitchell Adam                                       Data Analyst   \n",
       "\n",
       "         location                    salary  \\\n",
       "1         Glasgow  £19,945 - £21,947 a year   \n",
       "3         Glasgow  £30,000 - £44,000 a year   \n",
       "50  Birmingham B2  £21,000 - £25,999 a year   \n",
       "51  Birmingham B2  £21,000 - £25,999 a year   \n",
       "52     Birmingham  £25,000 - £30,000 a year   \n",
       "\n",
       "                                          description  \\\n",
       "1   Current technologies include Oracle Exadata da...   \n",
       "3   Technical Data Business Analyst – Glasgow – Pe...   \n",
       "50  Gather data from primary and secondary data so...   \n",
       "51  Gather data from primary and secondary data so...   \n",
       "52  This position would be applicable for a number...   \n",
       "\n",
       "             salary_per_year  average_salary  \n",
       "1   £19,945 - £21,947 a year         20946.0  \n",
       "3   £30,000 - £44,000 a year         37000.0  \n",
       "50  £21,000 - £25,999 a year         23499.5  \n",
       "51  £21,000 - £25,999 a year         23499.5  \n",
       "52  £25,000 - £30,000 a year         27500.0  "
      ]
     },
     "execution_count": 50,
     "metadata": {},
     "output_type": "execute_result"
    }
   ],
   "source": [
    "df.head()\n",
    "# I can use the average salary column as the target variable\n",
    "# I will leave the other salary columns in the dataframe for now - may be useful to change later"
   ]
  },
  {
   "cell_type": "markdown",
   "metadata": {
    "focus": false,
    "id": "43e71edd-210e-42b1-9336-70a931f048af"
   },
   "source": [
    "### Save your results as a CSV"
   ]
  },
  {
   "cell_type": "code",
   "execution_count": 51,
   "metadata": {
    "ExecuteTime": {
     "end_time": "2020-04-06T21:48:24.537578Z",
     "start_time": "2020-04-06T21:48:24.525553Z"
    },
    "focus": false,
    "id": "783fd153-28ac-47ab-bfca-27e7c1de95b4"
   },
   "outputs": [],
   "source": [
    "csv1 = df.to_csv(index=False)"
   ]
  },
  {
   "cell_type": "markdown",
   "metadata": {
    "focus": false,
    "id": "243e949e-2742-40af-872e-fec475fd306c"
   },
   "source": [
    "### Load in the the data of scraped salaries"
   ]
  },
  {
   "cell_type": "code",
   "execution_count": 56,
   "metadata": {
    "ExecuteTime": {
     "end_time": "2020-04-06T21:49:11.377203Z",
     "start_time": "2020-04-06T21:49:11.367542Z"
    },
    "focus": false,
    "id": "588f9845-6143-4bcc-bfd1-85d45b79303d"
   },
   "outputs": [
    {
     "data": {
      "text/html": [
       "<div>\n",
       "<style scoped>\n",
       "    .dataframe tbody tr th:only-of-type {\n",
       "        vertical-align: middle;\n",
       "    }\n",
       "\n",
       "    .dataframe tbody tr th {\n",
       "        vertical-align: top;\n",
       "    }\n",
       "\n",
       "    .dataframe thead th {\n",
       "        text-align: right;\n",
       "    }\n",
       "</style>\n",
       "<table border=\"1\" class=\"dataframe\">\n",
       "  <thead>\n",
       "    <tr style=\"text-align: right;\">\n",
       "      <th></th>\n",
       "      <th>company</th>\n",
       "      <th>job</th>\n",
       "      <th>location</th>\n",
       "      <th>salary</th>\n",
       "      <th>description</th>\n",
       "      <th>salary_per_year</th>\n",
       "      <th>average_salary</th>\n",
       "    </tr>\n",
       "  </thead>\n",
       "  <tbody>\n",
       "    <tr>\n",
       "      <td>1</td>\n",
       "      <td>NHS Scotland</td>\n",
       "      <td>Junior Technician - Student Placement</td>\n",
       "      <td>Glasgow</td>\n",
       "      <td>£19,945 - £21,947 a year</td>\n",
       "      <td>Current technologies include Oracle Exadata da...</td>\n",
       "      <td>£19,945 - £21,947 a year</td>\n",
       "      <td>20946.0</td>\n",
       "    </tr>\n",
       "    <tr>\n",
       "      <td>3</td>\n",
       "      <td>Hydrogen Group</td>\n",
       "      <td>Technical Data Business Analyst – Glasgow – Pe...</td>\n",
       "      <td>Glasgow</td>\n",
       "      <td>£30,000 - £44,000 a year</td>\n",
       "      <td>Technical Data Business Analyst – Glasgow – Pe...</td>\n",
       "      <td>£30,000 - £44,000 a year</td>\n",
       "      <td>37000.0</td>\n",
       "    </tr>\n",
       "    <tr>\n",
       "      <td>50</td>\n",
       "      <td>Sparta Global</td>\n",
       "      <td>Junior Data Analyst</td>\n",
       "      <td>Birmingham B2</td>\n",
       "      <td>£21,000 - £25,999 a year</td>\n",
       "      <td>Gather data from primary and secondary data so...</td>\n",
       "      <td>£21,000 - £25,999 a year</td>\n",
       "      <td>23499.5</td>\n",
       "    </tr>\n",
       "    <tr>\n",
       "      <td>51</td>\n",
       "      <td>Sparta Global</td>\n",
       "      <td>Junior Data Engineer</td>\n",
       "      <td>Birmingham B2</td>\n",
       "      <td>£21,000 - £25,999 a year</td>\n",
       "      <td>Gather data from primary and secondary data so...</td>\n",
       "      <td>£21,000 - £25,999 a year</td>\n",
       "      <td>23499.5</td>\n",
       "    </tr>\n",
       "    <tr>\n",
       "      <td>52</td>\n",
       "      <td>Mitchell Adam</td>\n",
       "      <td>Data Analyst</td>\n",
       "      <td>Birmingham</td>\n",
       "      <td>£25,000 - £30,000 a year</td>\n",
       "      <td>This position would be applicable for a number...</td>\n",
       "      <td>£25,000 - £30,000 a year</td>\n",
       "      <td>27500.0</td>\n",
       "    </tr>\n",
       "  </tbody>\n",
       "</table>\n",
       "</div>"
      ],
      "text/plain": [
       "           company                                                job  \\\n",
       "1     NHS Scotland              Junior Technician - Student Placement   \n",
       "3   Hydrogen Group  Technical Data Business Analyst – Glasgow – Pe...   \n",
       "50   Sparta Global                                Junior Data Analyst   \n",
       "51   Sparta Global                               Junior Data Engineer   \n",
       "52   Mitchell Adam                                       Data Analyst   \n",
       "\n",
       "         location                    salary  \\\n",
       "1         Glasgow  £19,945 - £21,947 a year   \n",
       "3         Glasgow  £30,000 - £44,000 a year   \n",
       "50  Birmingham B2  £21,000 - £25,999 a year   \n",
       "51  Birmingham B2  £21,000 - £25,999 a year   \n",
       "52     Birmingham  £25,000 - £30,000 a year   \n",
       "\n",
       "                                          description  \\\n",
       "1   Current technologies include Oracle Exadata da...   \n",
       "3   Technical Data Business Analyst – Glasgow – Pe...   \n",
       "50  Gather data from primary and secondary data so...   \n",
       "51  Gather data from primary and secondary data so...   \n",
       "52  This position would be applicable for a number...   \n",
       "\n",
       "             salary_per_year  average_salary  \n",
       "1   £19,945 - £21,947 a year         20946.0  \n",
       "3   £30,000 - £44,000 a year         37000.0  \n",
       "50  £21,000 - £25,999 a year         23499.5  \n",
       "51  £21,000 - £25,999 a year         23499.5  \n",
       "52  £25,000 - £30,000 a year         27500.0  "
      ]
     },
     "execution_count": 56,
     "metadata": {},
     "output_type": "execute_result"
    }
   ],
   "source": [
    "df.head()"
   ]
  },
  {
   "cell_type": "markdown",
   "metadata": {
    "focus": false,
    "id": "c7631f51-07f2-4c79-a093-3e9bc7849a48"
   },
   "source": [
    "### We want to predict a binary variable - whether the salary was low or high. Compute the median salary and create a new binary variable that is true when the salary is high (above the median).\n",
    "\n",
    "We could also perform Linear Regression (or any regression) to predict the salary value here. Instead, we are going to convert this into a _binary_ classification problem, by predicting two classes, HIGH vs LOW salary.\n",
    "\n",
    "While performing regression may be better, performing classification may help remove some of the noise of the extreme salaries. We don't have to choose the `median` as the splitting point - we could also split on the 75th percentile or any other reasonable breaking point.\n",
    "\n",
    "In fact, the ideal scenario may be to predict many levels of salaries."
   ]
  },
  {
   "cell_type": "code",
   "execution_count": 57,
   "metadata": {
    "ExecuteTime": {
     "end_time": "2020-04-06T21:49:24.144062Z",
     "start_time": "2020-04-06T21:49:24.140594Z"
    },
    "focus": false,
    "id": "c20d2498-151c-44c3-a453-3a333c79a0ac"
   },
   "outputs": [
    {
     "data": {
      "text/plain": [
       "13000.0"
      ]
     },
     "execution_count": 57,
     "metadata": {},
     "output_type": "execute_result"
    }
   ],
   "source": [
    "df.average_salary.min()"
   ]
  },
  {
   "cell_type": "code",
   "execution_count": 58,
   "metadata": {
    "ExecuteTime": {
     "end_time": "2020-04-06T21:49:24.783091Z",
     "start_time": "2020-04-06T21:49:24.778298Z"
    }
   },
   "outputs": [
    {
     "data": {
      "text/plain": [
       "105000.0"
      ]
     },
     "execution_count": 58,
     "metadata": {},
     "output_type": "execute_result"
    }
   ],
   "source": [
    "df.average_salary.max()"
   ]
  },
  {
   "cell_type": "code",
   "execution_count": 59,
   "metadata": {
    "ExecuteTime": {
     "end_time": "2020-04-06T21:49:26.465754Z",
     "start_time": "2020-04-06T21:49:26.462252Z"
    }
   },
   "outputs": [
    {
     "data": {
      "text/plain": [
       "41047.52929292929"
      ]
     },
     "execution_count": 59,
     "metadata": {},
     "output_type": "execute_result"
    }
   ],
   "source": [
    "df.average_salary.mean()"
   ]
  },
  {
   "cell_type": "code",
   "execution_count": 60,
   "metadata": {
    "ExecuteTime": {
     "end_time": "2020-04-06T21:49:27.096687Z",
     "start_time": "2020-04-06T21:49:27.092481Z"
    }
   },
   "outputs": [
    {
     "data": {
      "text/plain": [
       "37500.0"
      ]
     },
     "execution_count": 60,
     "metadata": {},
     "output_type": "execute_result"
    }
   ],
   "source": [
    "df.average_salary.median()"
   ]
  },
  {
   "cell_type": "code",
   "execution_count": 61,
   "metadata": {
    "ExecuteTime": {
     "end_time": "2020-04-06T21:49:29.191162Z",
     "start_time": "2020-04-06T21:49:29.188095Z"
    }
   },
   "outputs": [],
   "source": [
    "# for now, I will split on the median - I may change this later / add more classes within salary"
   ]
  },
  {
   "cell_type": "code",
   "execution_count": 62,
   "metadata": {
    "ExecuteTime": {
     "end_time": "2020-04-06T21:49:29.841337Z",
     "start_time": "2020-04-06T21:49:29.815019Z"
    }
   },
   "outputs": [],
   "source": [
    "high_low = []\n",
    "for i in df.average_salary:\n",
    "    if i >= df.average_salary.median():\n",
    "        high_low.append('high')\n",
    "    else:\n",
    "        high_low.append('low')"
   ]
  },
  {
   "cell_type": "code",
   "execution_count": 63,
   "metadata": {
    "ExecuteTime": {
     "end_time": "2020-04-06T21:49:30.428409Z",
     "start_time": "2020-04-06T21:49:30.424734Z"
    }
   },
   "outputs": [],
   "source": [
    "df['high_low']=high_low"
   ]
  },
  {
   "cell_type": "code",
   "execution_count": 64,
   "metadata": {
    "ExecuteTime": {
     "end_time": "2020-04-06T21:49:31.056451Z",
     "start_time": "2020-04-06T21:49:31.044805Z"
    }
   },
   "outputs": [
    {
     "data": {
      "text/html": [
       "<div>\n",
       "<style scoped>\n",
       "    .dataframe tbody tr th:only-of-type {\n",
       "        vertical-align: middle;\n",
       "    }\n",
       "\n",
       "    .dataframe tbody tr th {\n",
       "        vertical-align: top;\n",
       "    }\n",
       "\n",
       "    .dataframe thead th {\n",
       "        text-align: right;\n",
       "    }\n",
       "</style>\n",
       "<table border=\"1\" class=\"dataframe\">\n",
       "  <thead>\n",
       "    <tr style=\"text-align: right;\">\n",
       "      <th></th>\n",
       "      <th>company</th>\n",
       "      <th>job</th>\n",
       "      <th>location</th>\n",
       "      <th>salary</th>\n",
       "      <th>description</th>\n",
       "      <th>salary_per_year</th>\n",
       "      <th>average_salary</th>\n",
       "      <th>high_low</th>\n",
       "    </tr>\n",
       "  </thead>\n",
       "  <tbody>\n",
       "    <tr>\n",
       "      <td>1</td>\n",
       "      <td>NHS Scotland</td>\n",
       "      <td>Junior Technician - Student Placement</td>\n",
       "      <td>Glasgow</td>\n",
       "      <td>£19,945 - £21,947 a year</td>\n",
       "      <td>Current technologies include Oracle Exadata da...</td>\n",
       "      <td>£19,945 - £21,947 a year</td>\n",
       "      <td>20946.0</td>\n",
       "      <td>low</td>\n",
       "    </tr>\n",
       "    <tr>\n",
       "      <td>3</td>\n",
       "      <td>Hydrogen Group</td>\n",
       "      <td>Technical Data Business Analyst – Glasgow – Pe...</td>\n",
       "      <td>Glasgow</td>\n",
       "      <td>£30,000 - £44,000 a year</td>\n",
       "      <td>Technical Data Business Analyst – Glasgow – Pe...</td>\n",
       "      <td>£30,000 - £44,000 a year</td>\n",
       "      <td>37000.0</td>\n",
       "      <td>low</td>\n",
       "    </tr>\n",
       "    <tr>\n",
       "      <td>50</td>\n",
       "      <td>Sparta Global</td>\n",
       "      <td>Junior Data Analyst</td>\n",
       "      <td>Birmingham B2</td>\n",
       "      <td>£21,000 - £25,999 a year</td>\n",
       "      <td>Gather data from primary and secondary data so...</td>\n",
       "      <td>£21,000 - £25,999 a year</td>\n",
       "      <td>23499.5</td>\n",
       "      <td>low</td>\n",
       "    </tr>\n",
       "    <tr>\n",
       "      <td>51</td>\n",
       "      <td>Sparta Global</td>\n",
       "      <td>Junior Data Engineer</td>\n",
       "      <td>Birmingham B2</td>\n",
       "      <td>£21,000 - £25,999 a year</td>\n",
       "      <td>Gather data from primary and secondary data so...</td>\n",
       "      <td>£21,000 - £25,999 a year</td>\n",
       "      <td>23499.5</td>\n",
       "      <td>low</td>\n",
       "    </tr>\n",
       "    <tr>\n",
       "      <td>52</td>\n",
       "      <td>Mitchell Adam</td>\n",
       "      <td>Data Analyst</td>\n",
       "      <td>Birmingham</td>\n",
       "      <td>£25,000 - £30,000 a year</td>\n",
       "      <td>This position would be applicable for a number...</td>\n",
       "      <td>£25,000 - £30,000 a year</td>\n",
       "      <td>27500.0</td>\n",
       "      <td>low</td>\n",
       "    </tr>\n",
       "  </tbody>\n",
       "</table>\n",
       "</div>"
      ],
      "text/plain": [
       "           company                                                job  \\\n",
       "1     NHS Scotland              Junior Technician - Student Placement   \n",
       "3   Hydrogen Group  Technical Data Business Analyst – Glasgow – Pe...   \n",
       "50   Sparta Global                                Junior Data Analyst   \n",
       "51   Sparta Global                               Junior Data Engineer   \n",
       "52   Mitchell Adam                                       Data Analyst   \n",
       "\n",
       "         location                    salary  \\\n",
       "1         Glasgow  £19,945 - £21,947 a year   \n",
       "3         Glasgow  £30,000 - £44,000 a year   \n",
       "50  Birmingham B2  £21,000 - £25,999 a year   \n",
       "51  Birmingham B2  £21,000 - £25,999 a year   \n",
       "52     Birmingham  £25,000 - £30,000 a year   \n",
       "\n",
       "                                          description  \\\n",
       "1   Current technologies include Oracle Exadata da...   \n",
       "3   Technical Data Business Analyst – Glasgow – Pe...   \n",
       "50  Gather data from primary and secondary data so...   \n",
       "51  Gather data from primary and secondary data so...   \n",
       "52  This position would be applicable for a number...   \n",
       "\n",
       "             salary_per_year  average_salary high_low  \n",
       "1   £19,945 - £21,947 a year         20946.0      low  \n",
       "3   £30,000 - £44,000 a year         37000.0      low  \n",
       "50  £21,000 - £25,999 a year         23499.5      low  \n",
       "51  £21,000 - £25,999 a year         23499.5      low  \n",
       "52  £25,000 - £30,000 a year         27500.0      low  "
      ]
     },
     "execution_count": 64,
     "metadata": {},
     "output_type": "execute_result"
    }
   ],
   "source": [
    "df.head()"
   ]
  },
  {
   "cell_type": "code",
   "execution_count": 65,
   "metadata": {
    "ExecuteTime": {
     "end_time": "2020-04-06T21:49:32.718231Z",
     "start_time": "2020-04-06T21:49:32.710632Z"
    }
   },
   "outputs": [
    {
     "data": {
      "text/plain": [
       "high    255\n",
       "low     240\n",
       "Name: high_low, dtype: int64"
      ]
     },
     "execution_count": 65,
     "metadata": {},
     "output_type": "execute_result"
    }
   ],
   "source": [
    "df.high_low.value_counts()"
   ]
  },
  {
   "cell_type": "markdown",
   "metadata": {
    "focus": false,
    "id": "a7afb2c0-d41e-4779-8216-91cd8dd4473f"
   },
   "source": [
    "#### Thought experiment: What is the baseline accuracy for this model?"
   ]
  },
  {
   "cell_type": "code",
   "execution_count": 66,
   "metadata": {
    "ExecuteTime": {
     "end_time": "2020-04-06T21:49:35.891796Z",
     "start_time": "2020-04-06T21:49:35.868784Z"
    },
    "focus": false,
    "id": "87a17d3d-b7f4-4747-9f75-f9af1d18a174"
   },
   "outputs": [
    {
     "data": {
      "text/plain": [
       "high    0.515152\n",
       "low     0.484848\n",
       "Name: high_low, dtype: float64"
      ]
     },
     "execution_count": 66,
     "metadata": {},
     "output_type": "execute_result"
    }
   ],
   "source": [
    "df['high_low'].value_counts(normalize=True)"
   ]
  },
  {
   "cell_type": "markdown",
   "metadata": {
    "focus": false,
    "id": "4fb29de2-5b98-474c-a4ad-5170b72b9aea"
   },
   "source": [
    "### Create a classification model to predict High/Low salary. \n",
    "\n",
    "\n",
    "- Start by ONLY using the location as a feature.\n",
    "- Use at least two different classifiers you find suitable.\n",
    "- Remember that scaling your features might be necessary.\n",
    "- Display the coefficients/feature importances and write a short summary of what they mean.\n",
    "- Create a few new variables in your dataframe to represent interesting features of a job title (e.g. whether 'Senior' or 'Manager' is in the title).\n",
    "- Incorporate other text features from the title or summary that you believe will predict the salary.\n",
    "- Then build new classification models including also those features. Do they add any value?\n",
    "- Tune your models by testing parameter ranges, regularization strengths, etc. Discuss how that affects your models.\n",
    "- Discuss model coefficients or feature importances as applicable."
   ]
  },
  {
   "cell_type": "code",
   "execution_count": 67,
   "metadata": {
    "ExecuteTime": {
     "end_time": "2020-04-06T21:49:39.344270Z",
     "start_time": "2020-04-06T21:49:38.348369Z"
    }
   },
   "outputs": [],
   "source": [
    "from sklearn.model_selection import train_test_split, cross_val_score\n",
    "from sklearn.preprocessing import StandardScaler, MinMaxScaler\n",
    "from sklearn.metrics import classification_report, confusion_matrix, accuracy_score, roc_curve, roc_auc_score\n",
    "from sklearn.linear_model import LogisticRegression, LogisticRegressionCV"
   ]
  },
  {
   "cell_type": "markdown",
   "metadata": {},
   "source": [
    "Start by ONLY using the location as a feature."
   ]
  },
  {
   "cell_type": "code",
   "execution_count": 68,
   "metadata": {
    "ExecuteTime": {
     "end_time": "2020-04-06T21:49:39.962772Z",
     "start_time": "2020-04-06T21:49:39.942293Z"
    }
   },
   "outputs": [],
   "source": [
    "X = df[['location']]#,'rating','title']]\n",
    "y = df.high_low\n",
    "\n",
    "X = pd.get_dummies(X, drop_first=True)\n",
    "\n",
    "X_train, X_test, y_train, y_test = train_test_split(\n",
    "    X, y, test_size=0.2, random_state=1, stratify=y)\n",
    "\n",
    "scaler = StandardScaler()\n",
    "X_train = pd.DataFrame(scaler.fit_transform(X_train), columns=X.columns)\n",
    "X_test = pd.DataFrame(scaler.transform(X_test), columns=X.columns)"
   ]
  },
  {
   "cell_type": "code",
   "execution_count": 69,
   "metadata": {
    "ExecuteTime": {
     "end_time": "2020-04-06T21:49:41.418801Z",
     "start_time": "2020-04-06T21:49:41.157341Z"
    }
   },
   "outputs": [
    {
     "data": {
      "text/plain": [
       "0.6161616161616161"
      ]
     },
     "execution_count": 69,
     "metadata": {},
     "output_type": "execute_result"
    }
   ],
   "source": [
    "model = LogisticRegressionCV(Cs=10,solver='lbfgs',max_iter=10000, cv=5)\n",
    "model.fit(X_train, y_train)\n",
    "\n",
    "model.score(X_test, y_test)"
   ]
  },
  {
   "cell_type": "code",
   "execution_count": 70,
   "metadata": {
    "ExecuteTime": {
     "end_time": "2020-04-06T21:49:42.558180Z",
     "start_time": "2020-04-06T21:49:42.556100Z"
    }
   },
   "outputs": [],
   "source": [
    "# this score is poor, only slightly better than the baseline - shows that location is a poor predictor"
   ]
  },
  {
   "cell_type": "code",
   "execution_count": 71,
   "metadata": {
    "ExecuteTime": {
     "end_time": "2020-04-06T21:49:43.767746Z",
     "start_time": "2020-04-06T21:49:43.714254Z"
    }
   },
   "outputs": [],
   "source": [
    "from sklearn.tree import DecisionTreeClassifier"
   ]
  },
  {
   "cell_type": "code",
   "execution_count": 72,
   "metadata": {
    "ExecuteTime": {
     "end_time": "2020-04-06T21:49:44.961731Z",
     "start_time": "2020-04-06T21:49:44.959281Z"
    }
   },
   "outputs": [],
   "source": [
    "dtr = DecisionTreeClassifier(max_depth=1)"
   ]
  },
  {
   "cell_type": "code",
   "execution_count": 73,
   "metadata": {
    "ExecuteTime": {
     "end_time": "2020-04-06T21:49:46.172918Z",
     "start_time": "2020-04-06T21:49:46.163954Z"
    }
   },
   "outputs": [
    {
     "data": {
      "text/plain": [
       "DecisionTreeClassifier(class_weight=None, criterion='gini', max_depth=1,\n",
       "                       max_features=None, max_leaf_nodes=None,\n",
       "                       min_impurity_decrease=0.0, min_impurity_split=None,\n",
       "                       min_samples_leaf=1, min_samples_split=2,\n",
       "                       min_weight_fraction_leaf=0.0, presort=False,\n",
       "                       random_state=None, splitter='best')"
      ]
     },
     "execution_count": 73,
     "metadata": {},
     "output_type": "execute_result"
    }
   ],
   "source": [
    "dtr.fit(X_train, y_train)"
   ]
  },
  {
   "cell_type": "code",
   "execution_count": 74,
   "metadata": {
    "ExecuteTime": {
     "end_time": "2020-04-06T21:49:47.363190Z",
     "start_time": "2020-04-06T21:49:47.357345Z"
    }
   },
   "outputs": [
    {
     "data": {
      "text/plain": [
       "0.48484848484848486"
      ]
     },
     "execution_count": 74,
     "metadata": {},
     "output_type": "execute_result"
    }
   ],
   "source": [
    "dtr.score(X_test,y_test)"
   ]
  },
  {
   "cell_type": "code",
   "execution_count": 75,
   "metadata": {
    "ExecuteTime": {
     "end_time": "2020-04-06T21:49:48.542882Z",
     "start_time": "2020-04-06T21:49:48.540684Z"
    }
   },
   "outputs": [],
   "source": [
    "#this score is very poor, basically the same as the baseline"
   ]
  },
  {
   "cell_type": "code",
   "execution_count": 76,
   "metadata": {
    "ExecuteTime": {
     "end_time": "2020-04-06T21:49:49.683641Z",
     "start_time": "2020-04-06T21:49:49.678969Z"
    }
   },
   "outputs": [],
   "source": [
    "title = []\n",
    "for i in df.job:\n",
    "    if 'Junior' in i:\n",
    "        title.append('junior')\n",
    "    elif 'Senior' in i:\n",
    "        title.append('senior')\n",
    "    else:\n",
    "        title.append('medium')\n",
    "        \n",
    "df['title']=title\n",
    "\n",
    "# my thought here was that if the job title doesn't have junior or senior, it will probably have a mid-level salary,\n",
    "# and so I put it in a medium bracket"
   ]
  },
  {
   "cell_type": "code",
   "execution_count": 77,
   "metadata": {
    "ExecuteTime": {
     "end_time": "2020-04-06T21:49:50.887467Z",
     "start_time": "2020-04-06T21:49:50.881008Z"
    }
   },
   "outputs": [
    {
     "data": {
      "text/plain": [
       "medium    376\n",
       "senior     87\n",
       "junior     32\n",
       "Name: title, dtype: int64"
      ]
     },
     "execution_count": 77,
     "metadata": {},
     "output_type": "execute_result"
    }
   ],
   "source": [
    "df.title.value_counts()"
   ]
  },
  {
   "cell_type": "code",
   "execution_count": 78,
   "metadata": {
    "ExecuteTime": {
     "end_time": "2020-04-06T21:49:52.113669Z",
     "start_time": "2020-04-06T21:49:52.107333Z"
    },
    "scrolled": true
   },
   "outputs": [
    {
     "data": {
      "text/plain": [
       "Manchester          47\n",
       "Bristol             42\n",
       "Birmingham          37\n",
       "Leeds               33\n",
       "Oxford              30\n",
       "                    ..\n",
       "Ilkley               1\n",
       "Birmingham B15       1\n",
       "Huddersfield HD1     1\n",
       "Stirling FK9         1\n",
       "Bristol BS10         1\n",
       "Name: location, Length: 126, dtype: int64"
      ]
     },
     "execution_count": 78,
     "metadata": {},
     "output_type": "execute_result"
    }
   ],
   "source": [
    "df.location.value_counts()"
   ]
  },
  {
   "cell_type": "code",
   "execution_count": 196,
   "metadata": {
    "ExecuteTime": {
     "end_time": "2020-04-07T15:09:58.781157Z",
     "start_time": "2020-04-07T15:09:58.764469Z"
    }
   },
   "outputs": [
    {
     "data": {
      "text/html": [
       "<div>\n",
       "<style scoped>\n",
       "    .dataframe tbody tr th:only-of-type {\n",
       "        vertical-align: middle;\n",
       "    }\n",
       "\n",
       "    .dataframe tbody tr th {\n",
       "        vertical-align: top;\n",
       "    }\n",
       "\n",
       "    .dataframe thead th {\n",
       "        text-align: right;\n",
       "    }\n",
       "</style>\n",
       "<table border=\"1\" class=\"dataframe\">\n",
       "  <thead>\n",
       "    <tr style=\"text-align: right;\">\n",
       "      <th></th>\n",
       "      <th>company</th>\n",
       "      <th>job</th>\n",
       "      <th>location</th>\n",
       "      <th>salary</th>\n",
       "      <th>description</th>\n",
       "      <th>salary_per_year</th>\n",
       "      <th>average_salary</th>\n",
       "      <th>high_low</th>\n",
       "      <th>title</th>\n",
       "      <th>bin_hl</th>\n",
       "    </tr>\n",
       "  </thead>\n",
       "  <tbody>\n",
       "    <tr>\n",
       "      <td>1</td>\n",
       "      <td>NHS Scotland</td>\n",
       "      <td>Junior Technician - Student Placement</td>\n",
       "      <td>Glasgow</td>\n",
       "      <td>£19,945 - £21,947 a year</td>\n",
       "      <td>Current technologies include Oracle Exadata da...</td>\n",
       "      <td>£19,945 - £21,947 a year</td>\n",
       "      <td>20946.0</td>\n",
       "      <td>low</td>\n",
       "      <td>junior</td>\n",
       "      <td>0</td>\n",
       "    </tr>\n",
       "    <tr>\n",
       "      <td>3</td>\n",
       "      <td>Hydrogen Group</td>\n",
       "      <td>Technical Data Business Analyst – Glasgow – Pe...</td>\n",
       "      <td>Glasgow</td>\n",
       "      <td>£30,000 - £44,000 a year</td>\n",
       "      <td>Technical Data Business Analyst – Glasgow – Pe...</td>\n",
       "      <td>£30,000 - £44,000 a year</td>\n",
       "      <td>37000.0</td>\n",
       "      <td>low</td>\n",
       "      <td>medium</td>\n",
       "      <td>0</td>\n",
       "    </tr>\n",
       "    <tr>\n",
       "      <td>50</td>\n",
       "      <td>Sparta Global</td>\n",
       "      <td>Junior Data Analyst</td>\n",
       "      <td>Birmingham B2</td>\n",
       "      <td>£21,000 - £25,999 a year</td>\n",
       "      <td>Gather data from primary and secondary data so...</td>\n",
       "      <td>£21,000 - £25,999 a year</td>\n",
       "      <td>23499.5</td>\n",
       "      <td>low</td>\n",
       "      <td>junior</td>\n",
       "      <td>0</td>\n",
       "    </tr>\n",
       "    <tr>\n",
       "      <td>51</td>\n",
       "      <td>Sparta Global</td>\n",
       "      <td>Junior Data Engineer</td>\n",
       "      <td>Birmingham B2</td>\n",
       "      <td>£21,000 - £25,999 a year</td>\n",
       "      <td>Gather data from primary and secondary data so...</td>\n",
       "      <td>£21,000 - £25,999 a year</td>\n",
       "      <td>23499.5</td>\n",
       "      <td>low</td>\n",
       "      <td>junior</td>\n",
       "      <td>0</td>\n",
       "    </tr>\n",
       "    <tr>\n",
       "      <td>52</td>\n",
       "      <td>Mitchell Adam</td>\n",
       "      <td>Data Analyst</td>\n",
       "      <td>Birmingham</td>\n",
       "      <td>£25,000 - £30,000 a year</td>\n",
       "      <td>This position would be applicable for a number...</td>\n",
       "      <td>£25,000 - £30,000 a year</td>\n",
       "      <td>27500.0</td>\n",
       "      <td>low</td>\n",
       "      <td>medium</td>\n",
       "      <td>0</td>\n",
       "    </tr>\n",
       "    <tr>\n",
       "      <td>...</td>\n",
       "      <td>...</td>\n",
       "      <td>...</td>\n",
       "      <td>...</td>\n",
       "      <td>...</td>\n",
       "      <td>...</td>\n",
       "      <td>...</td>\n",
       "      <td>...</td>\n",
       "      <td>...</td>\n",
       "      <td>...</td>\n",
       "      <td>...</td>\n",
       "    </tr>\n",
       "    <tr>\n",
       "      <td>3913</td>\n",
       "      <td>Evolution Recruitment Solutions</td>\n",
       "      <td>Senior Machine Learning Engineer</td>\n",
       "      <td>Cambridge CB4</td>\n",
       "      <td>£55,000 - £65,000 a year</td>\n",
       "      <td>They are looking to speak to candidates who ar...</td>\n",
       "      <td>£55,000 - £65,000 a year</td>\n",
       "      <td>60000.0</td>\n",
       "      <td>high</td>\n",
       "      <td>senior</td>\n",
       "      <td>1</td>\n",
       "    </tr>\n",
       "    <tr>\n",
       "      <td>3914</td>\n",
       "      <td>Argo Recruitment Services Limited</td>\n",
       "      <td>C++ Software Engineer Machine Learning Artific...</td>\n",
       "      <td>Cambridge</td>\n",
       "      <td>£40,000 - £85,000 a year</td>\n",
       "      <td>Looking to welcome on board some of the most t...</td>\n",
       "      <td>£40,000 - £85,000 a year</td>\n",
       "      <td>62500.0</td>\n",
       "      <td>high</td>\n",
       "      <td>medium</td>\n",
       "      <td>1</td>\n",
       "    </tr>\n",
       "    <tr>\n",
       "      <td>3918</td>\n",
       "      <td>ECM Selection</td>\n",
       "      <td>Bright Developers Sought: Machine Learning / AI</td>\n",
       "      <td>Cambridge</td>\n",
       "      <td>£100,000 a year</td>\n",
       "      <td>This company, a successful and very profitable...</td>\n",
       "      <td>£100,000 a year</td>\n",
       "      <td>100000.0</td>\n",
       "      <td>high</td>\n",
       "      <td>medium</td>\n",
       "      <td>1</td>\n",
       "    </tr>\n",
       "    <tr>\n",
       "      <td>3924</td>\n",
       "      <td>ZenShin Talent</td>\n",
       "      <td>Machine Learning Engineer- Python, C++, Big Da...</td>\n",
       "      <td>Cambridge</td>\n",
       "      <td>£65,000 - £75,000 a year</td>\n",
       "      <td>Machine Learning Engineer- Python, C++, Big Da...</td>\n",
       "      <td>£65,000 - £75,000 a year</td>\n",
       "      <td>70000.0</td>\n",
       "      <td>high</td>\n",
       "      <td>medium</td>\n",
       "      <td>1</td>\n",
       "    </tr>\n",
       "    <tr>\n",
       "      <td>3929</td>\n",
       "      <td>ECM Selection</td>\n",
       "      <td>Bright Python Developer: Machine Learning / Fi...</td>\n",
       "      <td>Cambridge</td>\n",
       "      <td>£70,000 a year</td>\n",
       "      <td>Strong honours degree (2.1 or above, plus As a...</td>\n",
       "      <td>£70,000 a year</td>\n",
       "      <td>70000.0</td>\n",
       "      <td>high</td>\n",
       "      <td>medium</td>\n",
       "      <td>1</td>\n",
       "    </tr>\n",
       "  </tbody>\n",
       "</table>\n",
       "<p>495 rows × 10 columns</p>\n",
       "</div>"
      ],
      "text/plain": [
       "                                company  \\\n",
       "1                          NHS Scotland   \n",
       "3                        Hydrogen Group   \n",
       "50                        Sparta Global   \n",
       "51                        Sparta Global   \n",
       "52                        Mitchell Adam   \n",
       "...                                 ...   \n",
       "3913    Evolution Recruitment Solutions   \n",
       "3914  Argo Recruitment Services Limited   \n",
       "3918                      ECM Selection   \n",
       "3924                     ZenShin Talent   \n",
       "3929                      ECM Selection   \n",
       "\n",
       "                                                    job       location  \\\n",
       "1                 Junior Technician - Student Placement        Glasgow   \n",
       "3     Technical Data Business Analyst – Glasgow – Pe...        Glasgow   \n",
       "50                                  Junior Data Analyst  Birmingham B2   \n",
       "51                                 Junior Data Engineer  Birmingham B2   \n",
       "52                                         Data Analyst     Birmingham   \n",
       "...                                                 ...            ...   \n",
       "3913                   Senior Machine Learning Engineer  Cambridge CB4   \n",
       "3914  C++ Software Engineer Machine Learning Artific...      Cambridge   \n",
       "3918    Bright Developers Sought: Machine Learning / AI      Cambridge   \n",
       "3924  Machine Learning Engineer- Python, C++, Big Da...      Cambridge   \n",
       "3929  Bright Python Developer: Machine Learning / Fi...      Cambridge   \n",
       "\n",
       "                        salary  \\\n",
       "1     £19,945 - £21,947 a year   \n",
       "3     £30,000 - £44,000 a year   \n",
       "50    £21,000 - £25,999 a year   \n",
       "51    £21,000 - £25,999 a year   \n",
       "52    £25,000 - £30,000 a year   \n",
       "...                        ...   \n",
       "3913  £55,000 - £65,000 a year   \n",
       "3914  £40,000 - £85,000 a year   \n",
       "3918           £100,000 a year   \n",
       "3924  £65,000 - £75,000 a year   \n",
       "3929            £70,000 a year   \n",
       "\n",
       "                                            description  \\\n",
       "1     Current technologies include Oracle Exadata da...   \n",
       "3     Technical Data Business Analyst – Glasgow – Pe...   \n",
       "50    Gather data from primary and secondary data so...   \n",
       "51    Gather data from primary and secondary data so...   \n",
       "52    This position would be applicable for a number...   \n",
       "...                                                 ...   \n",
       "3913  They are looking to speak to candidates who ar...   \n",
       "3914  Looking to welcome on board some of the most t...   \n",
       "3918  This company, a successful and very profitable...   \n",
       "3924  Machine Learning Engineer- Python, C++, Big Da...   \n",
       "3929  Strong honours degree (2.1 or above, plus As a...   \n",
       "\n",
       "               salary_per_year  average_salary high_low   title  bin_hl  \n",
       "1     £19,945 - £21,947 a year         20946.0      low  junior       0  \n",
       "3     £30,000 - £44,000 a year         37000.0      low  medium       0  \n",
       "50    £21,000 - £25,999 a year         23499.5      low  junior       0  \n",
       "51    £21,000 - £25,999 a year         23499.5      low  junior       0  \n",
       "52    £25,000 - £30,000 a year         27500.0      low  medium       0  \n",
       "...                        ...             ...      ...     ...     ...  \n",
       "3913  £55,000 - £65,000 a year         60000.0     high  senior       1  \n",
       "3914  £40,000 - £85,000 a year         62500.0     high  medium       1  \n",
       "3918           £100,000 a year        100000.0     high  medium       1  \n",
       "3924  £65,000 - £75,000 a year         70000.0     high  medium       1  \n",
       "3929            £70,000 a year         70000.0     high  medium       1  \n",
       "\n",
       "[495 rows x 10 columns]"
      ]
     },
     "execution_count": 196,
     "metadata": {},
     "output_type": "execute_result"
    }
   ],
   "source": [
    "df"
   ]
  },
  {
   "cell_type": "code",
   "execution_count": 200,
   "metadata": {
    "ExecuteTime": {
     "end_time": "2020-04-07T15:15:34.712962Z",
     "start_time": "2020-04-07T15:15:34.612597Z"
    }
   },
   "outputs": [],
   "source": [
    "import seaborn as sns"
   ]
  },
  {
   "cell_type": "code",
   "execution_count": 204,
   "metadata": {
    "ExecuteTime": {
     "end_time": "2020-04-07T15:18:00.784059Z",
     "start_time": "2020-04-07T15:17:59.925446Z"
    }
   },
   "outputs": [
    {
     "data": {
      "image/png": "[encoded data removed]",
      "text/plain": [
       "<Figure size 360x360 with 6 Axes>"
      ]
     },
     "metadata": {
      "needs_background": "light"
     },
     "output_type": "display_data"
    }
   ],
   "source": [
    "sns.pairplot(df);\n",
    "# obviously tells us nothing because only two of the variables are float/int values, so I will try to use groupby"
   ]
  },
  {
   "cell_type": "code",
   "execution_count": 209,
   "metadata": {
    "ExecuteTime": {
     "end_time": "2020-04-07T15:24:42.644311Z",
     "start_time": "2020-04-07T15:24:42.635481Z"
    }
   },
   "outputs": [
    {
     "data": {
      "text/plain": [
       "medium    376\n",
       "senior     87\n",
       "junior     32\n",
       "Name: title, dtype: int64"
      ]
     },
     "execution_count": 209,
     "metadata": {},
     "output_type": "execute_result"
    }
   ],
   "source": [
    "df.title.value_counts()"
   ]
  },
  {
   "cell_type": "code",
   "execution_count": 210,
   "metadata": {
    "ExecuteTime": {
     "end_time": "2020-04-07T15:25:16.995391Z",
     "start_time": "2020-04-07T15:25:16.781701Z"
    }
   },
   "outputs": [
    {
     "data": {
      "image/png": "[encoded data removed]",
      "text/plain": [
       "<Figure size 1152x576 with 1 Axes>"
      ]
     },
     "metadata": {
      "needs_background": "light"
     },
     "output_type": "display_data"
    }
   ],
   "source": [
    "df.groupby('title').mean().average_salary.plot(kind='bar', figsize=(16,8));\n",
    "# good to see here that the data makes sense - senior earning the most on average, junior earning the least"
   ]
  },
  {
   "cell_type": "code",
   "execution_count": 213,
   "metadata": {
    "ExecuteTime": {
     "end_time": "2020-04-07T15:27:41.388666Z",
     "start_time": "2020-04-07T15:27:39.911916Z"
    }
   },
   "outputs": [
    {
     "data": {
      "image/png": "[encoded data removed]",
      "text/plain": [
       "<Figure size 1728x864 with 1 Axes>"
      ]
     },
     "metadata": {
      "needs_background": "light"
     },
     "output_type": "display_data"
    }
   ],
   "source": [
    "df.groupby('location').mean().average_salary.plot(kind='bar', figsize=(24,12));\n",
    "# hard to conclude much from this, since the locations have many different names"
   ]
  },
  {
   "cell_type": "code",
   "execution_count": 215,
   "metadata": {
    "ExecuteTime": {
     "end_time": "2020-04-07T15:30:20.441214Z",
     "start_time": "2020-04-07T15:30:20.439073Z"
    }
   },
   "outputs": [],
   "source": [
    "#df.groupby('company').mean().average_salary.plot(kind='bar', figsize=(24,12));\n",
    "# Far too many companies for this to be of any use"
   ]
  },
  {
   "cell_type": "code",
   "execution_count": 79,
   "metadata": {
    "ExecuteTime": {
     "end_time": "2020-04-06T21:49:53.293464Z",
     "start_time": "2020-04-06T21:49:53.288879Z"
    }
   },
   "outputs": [],
   "source": [
    "X = df[['location','title']]\n",
    "y = df.high_low"
   ]
  },
  {
   "cell_type": "code",
   "execution_count": 80,
   "metadata": {
    "ExecuteTime": {
     "end_time": "2020-04-06T21:49:54.412626Z",
     "start_time": "2020-04-06T21:49:54.405049Z"
    }
   },
   "outputs": [],
   "source": [
    "X = pd.get_dummies(X, drop_first=True)"
   ]
  },
  {
   "cell_type": "code",
   "execution_count": 81,
   "metadata": {
    "ExecuteTime": {
     "end_time": "2020-04-06T21:49:55.564846Z",
     "start_time": "2020-04-06T21:49:55.558215Z"
    }
   },
   "outputs": [],
   "source": [
    "X_train, X_test, y_train, y_test = train_test_split(\n",
    "    X, y, test_size=0.2, random_state=1, stratify=y)"
   ]
  },
  {
   "cell_type": "code",
   "execution_count": 82,
   "metadata": {
    "ExecuteTime": {
     "end_time": "2020-04-06T21:49:56.639196Z",
     "start_time": "2020-04-06T21:49:56.630123Z"
    }
   },
   "outputs": [],
   "source": [
    "scaler = StandardScaler()\n",
    "X_train = pd.DataFrame(scaler.fit_transform(X_train), columns=X.columns)\n",
    "X_test = pd.DataFrame(scaler.transform(X_test), columns=X.columns)"
   ]
  },
  {
   "cell_type": "code",
   "execution_count": 83,
   "metadata": {
    "ExecuteTime": {
     "end_time": "2020-04-06T21:49:58.156579Z",
     "start_time": "2020-04-06T21:49:57.800268Z"
    }
   },
   "outputs": [
    {
     "data": {
      "text/plain": [
       "LogisticRegressionCV(Cs=10, class_weight=None, cv=5, dual=False,\n",
       "                     fit_intercept=True, intercept_scaling=1.0, l1_ratios=None,\n",
       "                     max_iter=10000, multi_class='warn', n_jobs=None,\n",
       "                     penalty='l2', random_state=None, refit=True, scoring=None,\n",
       "                     solver='lbfgs', tol=0.0001, verbose=0)"
      ]
     },
     "execution_count": 83,
     "metadata": {},
     "output_type": "execute_result"
    }
   ],
   "source": [
    "model = LogisticRegressionCV(Cs=10,solver='lbfgs',max_iter=10000, cv=5)\n",
    "model.fit(X_train, y_train)"
   ]
  },
  {
   "cell_type": "code",
   "execution_count": 84,
   "metadata": {
    "ExecuteTime": {
     "end_time": "2020-04-06T21:49:59.362103Z",
     "start_time": "2020-04-06T21:49:59.359945Z"
    }
   },
   "outputs": [],
   "source": [
    "#print(cross_val_score(model, X_train, y_train, cv=5).mean())"
   ]
  },
  {
   "cell_type": "code",
   "execution_count": 85,
   "metadata": {
    "ExecuteTime": {
     "end_time": "2020-04-06T21:50:00.558555Z",
     "start_time": "2020-04-06T21:50:00.552723Z"
    }
   },
   "outputs": [
    {
     "data": {
      "text/plain": [
       "0.6060606060606061"
      ]
     },
     "execution_count": 85,
     "metadata": {},
     "output_type": "execute_result"
    }
   ],
   "source": [
    "model.score(X_test, y_test)"
   ]
  },
  {
   "cell_type": "code",
   "execution_count": 86,
   "metadata": {
    "ExecuteTime": {
     "end_time": "2020-04-06T21:50:01.765064Z",
     "start_time": "2020-04-06T21:50:01.754514Z"
    }
   },
   "outputs": [
    {
     "data": {
      "text/html": [
       "<div>\n",
       "<style scoped>\n",
       "    .dataframe tbody tr th:only-of-type {\n",
       "        vertical-align: middle;\n",
       "    }\n",
       "\n",
       "    .dataframe tbody tr th {\n",
       "        vertical-align: top;\n",
       "    }\n",
       "\n",
       "    .dataframe thead th {\n",
       "        text-align: right;\n",
       "    }\n",
       "</style>\n",
       "<table border=\"1\" class=\"dataframe\">\n",
       "  <thead>\n",
       "    <tr style=\"text-align: right;\">\n",
       "      <th></th>\n",
       "      <th>company</th>\n",
       "      <th>job</th>\n",
       "      <th>location</th>\n",
       "      <th>salary</th>\n",
       "      <th>description</th>\n",
       "      <th>salary_per_year</th>\n",
       "      <th>average_salary</th>\n",
       "      <th>high_low</th>\n",
       "      <th>title</th>\n",
       "    </tr>\n",
       "  </thead>\n",
       "  <tbody>\n",
       "    <tr>\n",
       "      <td>1</td>\n",
       "      <td>NHS Scotland</td>\n",
       "      <td>Junior Technician - Student Placement</td>\n",
       "      <td>Glasgow</td>\n",
       "      <td>£19,945 - £21,947 a year</td>\n",
       "      <td>Current technologies include Oracle Exadata da...</td>\n",
       "      <td>£19,945 - £21,947 a year</td>\n",
       "      <td>20946.0</td>\n",
       "      <td>low</td>\n",
       "      <td>junior</td>\n",
       "    </tr>\n",
       "    <tr>\n",
       "      <td>3</td>\n",
       "      <td>Hydrogen Group</td>\n",
       "      <td>Technical Data Business Analyst – Glasgow – Pe...</td>\n",
       "      <td>Glasgow</td>\n",
       "      <td>£30,000 - £44,000 a year</td>\n",
       "      <td>Technical Data Business Analyst – Glasgow – Pe...</td>\n",
       "      <td>£30,000 - £44,000 a year</td>\n",
       "      <td>37000.0</td>\n",
       "      <td>low</td>\n",
       "      <td>medium</td>\n",
       "    </tr>\n",
       "    <tr>\n",
       "      <td>50</td>\n",
       "      <td>Sparta Global</td>\n",
       "      <td>Junior Data Analyst</td>\n",
       "      <td>Birmingham B2</td>\n",
       "      <td>£21,000 - £25,999 a year</td>\n",
       "      <td>Gather data from primary and secondary data so...</td>\n",
       "      <td>£21,000 - £25,999 a year</td>\n",
       "      <td>23499.5</td>\n",
       "      <td>low</td>\n",
       "      <td>junior</td>\n",
       "    </tr>\n",
       "    <tr>\n",
       "      <td>51</td>\n",
       "      <td>Sparta Global</td>\n",
       "      <td>Junior Data Engineer</td>\n",
       "      <td>Birmingham B2</td>\n",
       "      <td>£21,000 - £25,999 a year</td>\n",
       "      <td>Gather data from primary and secondary data so...</td>\n",
       "      <td>£21,000 - £25,999 a year</td>\n",
       "      <td>23499.5</td>\n",
       "      <td>low</td>\n",
       "      <td>junior</td>\n",
       "    </tr>\n",
       "    <tr>\n",
       "      <td>52</td>\n",
       "      <td>Mitchell Adam</td>\n",
       "      <td>Data Analyst</td>\n",
       "      <td>Birmingham</td>\n",
       "      <td>£25,000 - £30,000 a year</td>\n",
       "      <td>This position would be applicable for a number...</td>\n",
       "      <td>£25,000 - £30,000 a year</td>\n",
       "      <td>27500.0</td>\n",
       "      <td>low</td>\n",
       "      <td>medium</td>\n",
       "    </tr>\n",
       "  </tbody>\n",
       "</table>\n",
       "</div>"
      ],
      "text/plain": [
       "           company                                                job  \\\n",
       "1     NHS Scotland              Junior Technician - Student Placement   \n",
       "3   Hydrogen Group  Technical Data Business Analyst – Glasgow – Pe...   \n",
       "50   Sparta Global                                Junior Data Analyst   \n",
       "51   Sparta Global                               Junior Data Engineer   \n",
       "52   Mitchell Adam                                       Data Analyst   \n",
       "\n",
       "         location                    salary  \\\n",
       "1         Glasgow  £19,945 - £21,947 a year   \n",
       "3         Glasgow  £30,000 - £44,000 a year   \n",
       "50  Birmingham B2  £21,000 - £25,999 a year   \n",
       "51  Birmingham B2  £21,000 - £25,999 a year   \n",
       "52     Birmingham  £25,000 - £30,000 a year   \n",
       "\n",
       "                                          description  \\\n",
       "1   Current technologies include Oracle Exadata da...   \n",
       "3   Technical Data Business Analyst – Glasgow – Pe...   \n",
       "50  Gather data from primary and secondary data so...   \n",
       "51  Gather data from primary and secondary data so...   \n",
       "52  This position would be applicable for a number...   \n",
       "\n",
       "             salary_per_year  average_salary high_low   title  \n",
       "1   £19,945 - £21,947 a year         20946.0      low  junior  \n",
       "3   £30,000 - £44,000 a year         37000.0      low  medium  \n",
       "50  £21,000 - £25,999 a year         23499.5      low  junior  \n",
       "51  £21,000 - £25,999 a year         23499.5      low  junior  \n",
       "52  £25,000 - £30,000 a year         27500.0      low  medium  "
      ]
     },
     "execution_count": 86,
     "metadata": {},
     "output_type": "execute_result"
    }
   ],
   "source": [
    "df.head()"
   ]
  },
  {
   "cell_type": "code",
   "execution_count": 87,
   "metadata": {
    "ExecuteTime": {
     "end_time": "2020-04-06T21:50:02.914119Z",
     "start_time": "2020-04-06T21:50:02.902295Z"
    }
   },
   "outputs": [],
   "source": [
    "from sklearn.feature_extraction.text import TfidfVectorizer\n",
    "\n",
    "tvec = TfidfVectorizer(stop_words='english')"
   ]
  },
  {
   "cell_type": "code",
   "execution_count": 88,
   "metadata": {
    "ExecuteTime": {
     "end_time": "2020-04-06T21:50:04.076837Z",
     "start_time": "2020-04-06T21:50:04.055157Z"
    }
   },
   "outputs": [
    {
     "data": {
      "text/plain": [
       "TfidfVectorizer(analyzer='word', binary=False, decode_error='strict',\n",
       "                dtype=<class 'numpy.float64'>, encoding='utf-8',\n",
       "                input='content', lowercase=True, max_df=1.0, max_features=None,\n",
       "                min_df=1, ngram_range=(1, 1), norm='l2', preprocessor=None,\n",
       "                smooth_idf=True, stop_words='english', strip_accents=None,\n",
       "                sublinear_tf=False, token_pattern='(?u)\\\\b\\\\w\\\\w+\\\\b',\n",
       "                tokenizer=None, use_idf=True, vocabulary=None)"
      ]
     },
     "execution_count": 88,
     "metadata": {},
     "output_type": "execute_result"
    }
   ],
   "source": [
    "tvec.fit(df['description'])"
   ]
  },
  {
   "cell_type": "code",
   "execution_count": 89,
   "metadata": {
    "ExecuteTime": {
     "end_time": "2020-04-06T21:50:05.238841Z",
     "start_time": "2020-04-06T21:50:05.223840Z"
    }
   },
   "outputs": [],
   "source": [
    "X_desc = tvec.transform(df['description'])"
   ]
  },
  {
   "cell_type": "code",
   "execution_count": 90,
   "metadata": {
    "ExecuteTime": {
     "end_time": "2020-04-06T21:50:06.407902Z",
     "start_time": "2020-04-06T21:50:06.371862Z"
    }
   },
   "outputs": [
    {
     "name": "stderr",
     "output_type": "stream",
     "text": [
      "/opt/anaconda3/lib/python3.7/site-packages/sklearn/linear_model/logistic.py:432: FutureWarning: Default solver will be changed to 'lbfgs' in 0.22. Specify a solver to silence this warning.\n",
      "  FutureWarning)\n",
      "/opt/anaconda3/lib/python3.7/site-packages/sklearn/linear_model/logistic.py:432: FutureWarning: Default solver will be changed to 'lbfgs' in 0.22. Specify a solver to silence this warning.\n",
      "  FutureWarning)\n",
      "/opt/anaconda3/lib/python3.7/site-packages/sklearn/linear_model/logistic.py:432: FutureWarning: Default solver will be changed to 'lbfgs' in 0.22. Specify a solver to silence this warning.\n",
      "  FutureWarning)\n",
      "/opt/anaconda3/lib/python3.7/site-packages/sklearn/linear_model/logistic.py:432: FutureWarning: Default solver will be changed to 'lbfgs' in 0.22. Specify a solver to silence this warning.\n",
      "  FutureWarning)\n",
      "/opt/anaconda3/lib/python3.7/site-packages/sklearn/linear_model/logistic.py:432: FutureWarning: Default solver will be changed to 'lbfgs' in 0.22. Specify a solver to silence this warning.\n",
      "  FutureWarning)\n",
      "/opt/anaconda3/lib/python3.7/site-packages/sklearn/linear_model/logistic.py:432: FutureWarning: Default solver will be changed to 'lbfgs' in 0.22. Specify a solver to silence this warning.\n",
      "  FutureWarning)\n"
     ]
    },
    {
     "data": {
      "text/plain": [
       "0.5919191919191918"
      ]
     },
     "execution_count": 90,
     "metadata": {},
     "output_type": "execute_result"
    }
   ],
   "source": [
    "model = LogisticRegression(max_iter = 1000)\n",
    "model.fit(X_desc,y)\n",
    "\n",
    "cross_val_score(model,X,y,cv=5).mean()"
   ]
  },
  {
   "cell_type": "code",
   "execution_count": 91,
   "metadata": {
    "ExecuteTime": {
     "end_time": "2020-04-06T21:50:07.647215Z",
     "start_time": "2020-04-06T21:50:07.643094Z"
    }
   },
   "outputs": [],
   "source": [
    "X = df[['location','title']]\n",
    "y = df.high_low"
   ]
  },
  {
   "cell_type": "code",
   "execution_count": 92,
   "metadata": {
    "ExecuteTime": {
     "end_time": "2020-04-06T21:50:08.736965Z",
     "start_time": "2020-04-06T21:50:08.728929Z"
    }
   },
   "outputs": [],
   "source": [
    "X_dum = pd.get_dummies(X, drop_first=True)"
   ]
  },
  {
   "cell_type": "code",
   "execution_count": 93,
   "metadata": {
    "ExecuteTime": {
     "end_time": "2020-04-06T21:50:09.940481Z",
     "start_time": "2020-04-06T21:50:09.936497Z"
    }
   },
   "outputs": [],
   "source": [
    "import scipy\n",
    "sparse_matrix = scipy.sparse.csr_matrix(X_dum.values)\n"
   ]
  },
  {
   "cell_type": "code",
   "execution_count": 94,
   "metadata": {
    "ExecuteTime": {
     "end_time": "2020-04-06T21:50:11.123682Z",
     "start_time": "2020-04-06T21:50:11.119658Z"
    }
   },
   "outputs": [],
   "source": [
    "sparse1 = scipy.sparse.hstack([sparse_matrix, X_desc])\n",
    "# Adding the nlp stuff from X_desc to the other variables location and title"
   ]
  },
  {
   "cell_type": "code",
   "execution_count": 132,
   "metadata": {
    "ExecuteTime": {
     "end_time": "2020-04-06T22:10:12.117154Z",
     "start_time": "2020-04-06T22:10:12.113985Z"
    }
   },
   "outputs": [],
   "source": [
    "bin_hl = []\n",
    "for i in df.high_low:\n",
    "    if i == 'high':\n",
    "        bin_hl.append(1)\n",
    "    else:\n",
    "        bin_hl.append(0)"
   ]
  },
  {
   "cell_type": "code",
   "execution_count": 134,
   "metadata": {
    "ExecuteTime": {
     "end_time": "2020-04-06T22:11:00.680237Z",
     "start_time": "2020-04-06T22:11:00.676964Z"
    }
   },
   "outputs": [],
   "source": [
    "df['bin_hl']=bin_hl"
   ]
  },
  {
   "cell_type": "code",
   "execution_count": 135,
   "metadata": {
    "ExecuteTime": {
     "end_time": "2020-04-06T22:11:06.593350Z",
     "start_time": "2020-04-06T22:11:06.590886Z"
    }
   },
   "outputs": [],
   "source": [
    "X = sparse1\n",
    "y = df.bin_hl"
   ]
  },
  {
   "cell_type": "code",
   "execution_count": 136,
   "metadata": {
    "ExecuteTime": {
     "end_time": "2020-04-06T22:11:07.790260Z",
     "start_time": "2020-04-06T22:11:07.782563Z"
    }
   },
   "outputs": [],
   "source": [
    "X_train, X_test, y_train, y_test = train_test_split(\n",
    "    X, y, test_size=0.2, random_state=1, stratify=y)"
   ]
  },
  {
   "cell_type": "code",
   "execution_count": 137,
   "metadata": {
    "ExecuteTime": {
     "end_time": "2020-04-06T22:11:09.227709Z",
     "start_time": "2020-04-06T22:11:09.202747Z"
    }
   },
   "outputs": [
    {
     "name": "stderr",
     "output_type": "stream",
     "text": [
      "/opt/anaconda3/lib/python3.7/site-packages/sklearn/linear_model/logistic.py:432: FutureWarning: Default solver will be changed to 'lbfgs' in 0.22. Specify a solver to silence this warning.\n",
      "  FutureWarning)\n",
      "/opt/anaconda3/lib/python3.7/site-packages/sklearn/linear_model/logistic.py:432: FutureWarning: Default solver will be changed to 'lbfgs' in 0.22. Specify a solver to silence this warning.\n",
      "  FutureWarning)\n"
     ]
    },
    {
     "data": {
      "text/plain": [
       "0.6444444444444445"
      ]
     },
     "execution_count": 137,
     "metadata": {},
     "output_type": "execute_result"
    }
   ],
   "source": [
    "model = LogisticRegression(max_iter = 10000)\n",
    "model.fit(X_train,y_train)\n",
    "\n",
    "cross_val_score(model,X,y,cv=5).mean()"
   ]
  },
  {
   "cell_type": "code",
   "execution_count": 138,
   "metadata": {
    "ExecuteTime": {
     "end_time": "2020-04-06T22:11:10.548252Z",
     "start_time": "2020-04-06T22:11:10.545694Z"
    }
   },
   "outputs": [],
   "source": [
    "from sklearn.ensemble import RandomForestClassifier\n",
    "from sklearn.datasets import make_classification\n",
    "from sklearn.model_selection import GridSearchCV"
   ]
  },
  {
   "cell_type": "code",
   "execution_count": 139,
   "metadata": {
    "ExecuteTime": {
     "end_time": "2020-04-06T22:11:11.584468Z",
     "start_time": "2020-04-06T22:11:11.580245Z"
    }
   },
   "outputs": [],
   "source": [
    "# fill the dictionary of parameters\n",
    "gs_params = {'n_estimators': [10, 50, 100],\n",
    "             'max_features': ['auto','sqrt','log2'],\n",
    "             'max_depth': [1,2,3]}\n",
    "\n",
    "# create your gridsearch object\n",
    "model = RandomForestClassifier()\n",
    "rf_gridsearch = GridSearchCV(model,\n",
    "                             gs_params,\n",
    "                             n_jobs=2, \n",
    "                             cv=5, \n",
    "                             verbose=1)"
   ]
  },
  {
   "cell_type": "code",
   "execution_count": 140,
   "metadata": {
    "ExecuteTime": {
     "end_time": "2020-04-06T22:11:19.814168Z",
     "start_time": "2020-04-06T22:11:12.583537Z"
    }
   },
   "outputs": [
    {
     "name": "stdout",
     "output_type": "stream",
     "text": [
      "Fitting 5 folds for each of 27 candidates, totalling 135 fits\n"
     ]
    },
    {
     "name": "stderr",
     "output_type": "stream",
     "text": [
      "[Parallel(n_jobs=2)]: Using backend LokyBackend with 2 concurrent workers.\n",
      "[Parallel(n_jobs=2)]: Done 113 tasks      | elapsed:    6.1s\n",
      "[Parallel(n_jobs=2)]: Done 135 out of 135 | elapsed:    7.1s finished\n",
      "/opt/anaconda3/lib/python3.7/site-packages/sklearn/model_selection/_search.py:814: DeprecationWarning: The default of the `iid` parameter will change from True to False in version 0.22 and will be removed in 0.24. This will change numeric results when test-set sizes are unequal.\n",
      "  DeprecationWarning)\n"
     ]
    },
    {
     "data": {
      "text/plain": [
       "GridSearchCV(cv=5, error_score='raise-deprecating',\n",
       "             estimator=RandomForestClassifier(bootstrap=True, class_weight=None,\n",
       "                                              criterion='gini', max_depth=None,\n",
       "                                              max_features='auto',\n",
       "                                              max_leaf_nodes=None,\n",
       "                                              min_impurity_decrease=0.0,\n",
       "                                              min_impurity_split=None,\n",
       "                                              min_samples_leaf=1,\n",
       "                                              min_samples_split=2,\n",
       "                                              min_weight_fraction_leaf=0.0,\n",
       "                                              n_estimators='warn', n_jobs=None,\n",
       "                                              oob_score=False,\n",
       "                                              random_state=None, verbose=0,\n",
       "                                              warm_start=False),\n",
       "             iid='warn', n_jobs=2,\n",
       "             param_grid={'max_depth': [1, 2, 3],\n",
       "                         'max_features': ['auto', 'sqrt', 'log2'],\n",
       "                         'n_estimators': [10, 50, 100]},\n",
       "             pre_dispatch='2*n_jobs', refit=True, return_train_score=False,\n",
       "             scoring=None, verbose=1)"
      ]
     },
     "execution_count": 140,
     "metadata": {},
     "output_type": "execute_result"
    }
   ],
   "source": [
    "rf_gridsearch.fit(X_train,y_train)"
   ]
  },
  {
   "cell_type": "code",
   "execution_count": 141,
   "metadata": {
    "ExecuteTime": {
     "end_time": "2020-04-06T22:11:21.986697Z",
     "start_time": "2020-04-06T22:11:21.982857Z"
    }
   },
   "outputs": [
    {
     "data": {
      "text/plain": [
       "{'max_depth': 3, 'max_features': 'auto', 'n_estimators': 100}"
      ]
     },
     "execution_count": 141,
     "metadata": {},
     "output_type": "execute_result"
    }
   ],
   "source": [
    "rf_gridsearch.best_params_"
   ]
  },
  {
   "cell_type": "code",
   "execution_count": 142,
   "metadata": {
    "ExecuteTime": {
     "end_time": "2020-04-06T22:11:23.070578Z",
     "start_time": "2020-04-06T22:11:23.066951Z"
    }
   },
   "outputs": [
    {
     "data": {
      "text/plain": [
       "0.6540404040404041"
      ]
     },
     "execution_count": 142,
     "metadata": {},
     "output_type": "execute_result"
    }
   ],
   "source": [
    "rf_gridsearch.best_score_\n",
    "# gridsearch on randomforest gave a score of 0.63"
   ]
  },
  {
   "cell_type": "code",
   "execution_count": 143,
   "metadata": {
    "ExecuteTime": {
     "end_time": "2020-04-06T22:11:24.517332Z",
     "start_time": "2020-04-06T22:11:24.514621Z"
    }
   },
   "outputs": [],
   "source": [
    "# next I will try a gridsearch on a regular logistic regression, as it seems to be giving the best scores"
   ]
  },
  {
   "cell_type": "code",
   "execution_count": 144,
   "metadata": {
    "ExecuteTime": {
     "end_time": "2020-04-06T22:11:25.605199Z",
     "start_time": "2020-04-06T22:11:25.600519Z"
    }
   },
   "outputs": [],
   "source": [
    "# fill the dictionary of parameters\n",
    "gs_params = {'max_iter': [100, 1000, 10000],\n",
    "             'penalty': ['l2','l1'],\n",
    "             'C':[0.001,.009,0.01,.09,1,5,10,25]}\n",
    "\n",
    "# create your gridsearch object\n",
    "model = LogisticRegression()\n",
    "lr_gridsearch = GridSearchCV(model,\n",
    "                             gs_params,\n",
    "                             n_jobs=2, \n",
    "                             cv=5, \n",
    "                             verbose=1)"
   ]
  },
  {
   "cell_type": "code",
   "execution_count": 145,
   "metadata": {
    "ExecuteTime": {
     "end_time": "2020-04-06T22:13:51.718988Z",
     "start_time": "2020-04-06T22:11:26.826392Z"
    }
   },
   "outputs": [
    {
     "name": "stdout",
     "output_type": "stream",
     "text": [
      "Fitting 5 folds for each of 48 candidates, totalling 240 fits\n"
     ]
    },
    {
     "name": "stderr",
     "output_type": "stream",
     "text": [
      "[Parallel(n_jobs=2)]: Using backend LokyBackend with 2 concurrent workers.\n",
      "[Parallel(n_jobs=2)]: Done 240 out of 240 | elapsed:  2.4min finished\n",
      "/opt/anaconda3/lib/python3.7/site-packages/sklearn/model_selection/_search.py:814: DeprecationWarning: The default of the `iid` parameter will change from True to False in version 0.22 and will be removed in 0.24. This will change numeric results when test-set sizes are unequal.\n",
      "  DeprecationWarning)\n",
      "/opt/anaconda3/lib/python3.7/site-packages/sklearn/linear_model/logistic.py:432: FutureWarning: Default solver will be changed to 'lbfgs' in 0.22. Specify a solver to silence this warning.\n",
      "  FutureWarning)\n"
     ]
    },
    {
     "data": {
      "text/plain": [
       "GridSearchCV(cv=5, error_score='raise-deprecating',\n",
       "             estimator=LogisticRegression(C=1.0, class_weight=None, dual=False,\n",
       "                                          fit_intercept=True,\n",
       "                                          intercept_scaling=1, l1_ratio=None,\n",
       "                                          max_iter=100, multi_class='warn',\n",
       "                                          n_jobs=None, penalty='l2',\n",
       "                                          random_state=None, solver='warn',\n",
       "                                          tol=0.0001, verbose=0,\n",
       "                                          warm_start=False),\n",
       "             iid='warn', n_jobs=2,\n",
       "             param_grid={'C': [0.001, 0.009, 0.01, 0.09, 1, 5, 10, 25],\n",
       "                         'max_iter': [100, 1000, 10000],\n",
       "                         'penalty': ['l2', 'l1']},\n",
       "             pre_dispatch='2*n_jobs', refit=True, return_train_score=False,\n",
       "             scoring=None, verbose=1)"
      ]
     },
     "execution_count": 145,
     "metadata": {},
     "output_type": "execute_result"
    }
   ],
   "source": [
    "lr_gridsearch.fit(X_train,y_train)"
   ]
  },
  {
   "cell_type": "code",
   "execution_count": 146,
   "metadata": {
    "ExecuteTime": {
     "end_time": "2020-04-06T22:14:15.587132Z",
     "start_time": "2020-04-06T22:14:15.582847Z"
    }
   },
   "outputs": [
    {
     "data": {
      "text/plain": [
       "{'C': 25, 'max_iter': 100, 'penalty': 'l2'}"
      ]
     },
     "execution_count": 146,
     "metadata": {},
     "output_type": "execute_result"
    }
   ],
   "source": [
    "lr_gridsearch.best_params_"
   ]
  },
  {
   "cell_type": "code",
   "execution_count": 147,
   "metadata": {
    "ExecuteTime": {
     "end_time": "2020-04-06T22:14:17.198730Z",
     "start_time": "2020-04-06T22:14:17.194291Z"
    }
   },
   "outputs": [
    {
     "data": {
      "text/plain": [
       "0.7297979797979798"
      ]
     },
     "execution_count": 147,
     "metadata": {},
     "output_type": "execute_result"
    }
   ],
   "source": [
    "lr_gridsearch.best_score_"
   ]
  },
  {
   "cell_type": "code",
   "execution_count": 148,
   "metadata": {
    "ExecuteTime": {
     "end_time": "2020-04-06T22:14:21.532627Z",
     "start_time": "2020-04-06T22:14:21.530525Z"
    }
   },
   "outputs": [],
   "source": [
    "# this is my best score so far"
   ]
  },
  {
   "cell_type": "markdown",
   "metadata": {
    "focus": false,
    "id": "4fb29de2-5b98-474c-a4ad-5170b72b9aea"
   },
   "source": [
    "### Model evaluation:\n",
    "\n",
    "Your boss would rather tell a client incorrectly that they would get a lower salary job than tell a client incorrectly that they would get a high salary job. Adjust one of your models to ease his mind, and explain what it is doing and any tradeoffs.\n",
    "\n",
    "\n",
    "- Use cross-validation to evaluate your models.\n",
    "- Evaluate the accuracy, AUC, precision and recall of the models.\n",
    "- Plot the ROC and precision-recall curves for at least one of your models."
   ]
  },
  {
   "cell_type": "code",
   "execution_count": 149,
   "metadata": {
    "ExecuteTime": {
     "end_time": "2020-04-06T22:14:25.284445Z",
     "start_time": "2020-04-06T22:14:25.281404Z"
    }
   },
   "outputs": [],
   "source": [
    "y_pred = lr_gridsearch.predict(X_test)"
   ]
  },
  {
   "cell_type": "code",
   "execution_count": 161,
   "metadata": {
    "ExecuteTime": {
     "end_time": "2020-04-06T22:17:54.378677Z",
     "start_time": "2020-04-06T22:17:54.372230Z"
    },
    "scrolled": true
   },
   "outputs": [
    {
     "name": "stdout",
     "output_type": "stream",
     "text": [
      "Confusion Matrix : \n",
      "[[35 13]\n",
      " [ 7 44]]\n"
     ]
    }
   ],
   "source": [
    "from sklearn.metrics import accuracy_score,recall_score,precision_score,f1_score\n",
    "# print('Accuracy Score : ' + str(accuracy_score(y_test,y_pred)))\n",
    "# print('Precision Score : ' + str(precision_score(y_test,y_pred)))\n",
    "# print('Recall Score : ' + str(recall_score(y_test,y_pred)))\n",
    "# print('F1 Score : ' + str(f1_score(y_test,y_pred)))\n",
    "\n",
    "#Logistic Regression Classifier Confusion matrix\n",
    "from sklearn.metrics import confusion_matrix\n",
    "print('Confusion Matrix : \\n' + str(confusion_matrix(y_test,y_pred)))"
   ]
  },
  {
   "cell_type": "code",
   "execution_count": 151,
   "metadata": {
    "ExecuteTime": {
     "end_time": "2020-04-06T22:14:57.239522Z",
     "start_time": "2020-04-06T22:14:57.237054Z"
    }
   },
   "outputs": [],
   "source": [
    "TP = 35\n",
    "FP = 13\n",
    "TN = 44\n",
    "FN = 7"
   ]
  },
  {
   "cell_type": "code",
   "execution_count": 152,
   "metadata": {
    "ExecuteTime": {
     "end_time": "2020-04-06T22:14:59.130926Z",
     "start_time": "2020-04-06T22:14:59.126822Z"
    }
   },
   "outputs": [
    {
     "name": "stdout",
     "output_type": "stream",
     "text": [
      "Accuracy Score : 0.797979797979798\n"
     ]
    }
   ],
   "source": [
    "print('Accuracy Score : ' + str(accuracy_score(y_test,y_pred)))"
   ]
  },
  {
   "cell_type": "code",
   "execution_count": 153,
   "metadata": {
    "ExecuteTime": {
     "end_time": "2020-04-06T22:15:00.909095Z",
     "start_time": "2020-04-06T22:15:00.905921Z"
    }
   },
   "outputs": [
    {
     "data": {
      "text/plain": [
       "0.7291666666666666"
      ]
     },
     "execution_count": 153,
     "metadata": {},
     "output_type": "execute_result"
    }
   ],
   "source": [
    "precision = TP/(TP+FP)\n",
    "precision"
   ]
  },
  {
   "cell_type": "code",
   "execution_count": 154,
   "metadata": {
    "ExecuteTime": {
     "end_time": "2020-04-06T22:15:02.478106Z",
     "start_time": "2020-04-06T22:15:02.474348Z"
    }
   },
   "outputs": [
    {
     "data": {
      "text/plain": [
       "0.8333333333333334"
      ]
     },
     "execution_count": 154,
     "metadata": {},
     "output_type": "execute_result"
    }
   ],
   "source": [
    "recall = TP/(TP+FN)\n",
    "recall"
   ]
  },
  {
   "cell_type": "code",
   "execution_count": 155,
   "metadata": {
    "ExecuteTime": {
     "end_time": "2020-04-06T22:15:04.079852Z",
     "start_time": "2020-04-06T22:15:04.077843Z"
    }
   },
   "outputs": [],
   "source": [
    "# The client would rather have more false negatives than false positives\n",
    "# Therefore, maximise precision"
   ]
  },
  {
   "cell_type": "code",
   "execution_count": 158,
   "metadata": {
    "ExecuteTime": {
     "end_time": "2020-04-06T22:16:45.153328Z",
     "start_time": "2020-04-06T22:16:37.997074Z"
    }
   },
   "outputs": [
    {
     "name": "stderr",
     "output_type": "stream",
     "text": [
      "/opt/anaconda3/lib/python3.7/site-packages/sklearn/linear_model/logistic.py:432: FutureWarning: Default solver will be changed to 'lbfgs' in 0.22. Specify a solver to silence this warning.\n",
      "  FutureWarning)\n",
      "/opt/anaconda3/lib/python3.7/site-packages/sklearn/metrics/classification.py:1437: UndefinedMetricWarning: Precision is ill-defined and being set to 0.0 due to no predicted samples.\n",
      "  'precision', 'predicted', average, warn_for)\n",
      "/opt/anaconda3/lib/python3.7/site-packages/sklearn/svm/base.py:929: ConvergenceWarning: Liblinear failed to converge, increase the number of iterations.\n",
      "  \"the number of iterations.\", ConvergenceWarning)\n",
      "/opt/anaconda3/lib/python3.7/site-packages/sklearn/model_selection/_search.py:814: DeprecationWarning: The default of the `iid` parameter will change from True to False in version 0.22 and will be removed in 0.24. This will change numeric results when test-set sizes are unequal.\n",
      "  DeprecationWarning)\n"
     ]
    }
   ],
   "source": [
    "from sklearn.model_selection import GridSearchCV\n",
    "clf = LogisticRegression()\n",
    "grid_values = {'penalty': ['l1', 'l2'],'C':[0.001,.009,0.01,.09,1,5,10,25], 'max_iter':[1000]}\n",
    "grid_clf_acc = GridSearchCV(clf, param_grid = grid_values,scoring = 'precision', cv=5)\n",
    "grid_clf_acc.fit(X_train, y_train)\n",
    "\n",
    "#Predict values based on new parameters\n",
    "y_pred_acc = grid_clf_acc.predict(X_test)"
   ]
  },
  {
   "cell_type": "code",
   "execution_count": 170,
   "metadata": {
    "ExecuteTime": {
     "end_time": "2020-04-06T22:20:48.810900Z",
     "start_time": "2020-04-06T22:20:48.806203Z"
    }
   },
   "outputs": [],
   "source": [
    "def predictions_confusion(model, X, y):\n",
    "\n",
    "    yhat = model.predict(X)\n",
    "    yhat_pp = model.predict_proba(X)\n",
    "\n",
    "    conmat = np.array(confusion_matrix(y, yhat))\n",
    "\n",
    "    confusion = pd.DataFrame(conmat, index=['is_high', 'is_low'],\n",
    "                             columns=['predicted_high', 'predicted_low'])\n",
    "    return yhat, yhat_pp, confusion"
   ]
  },
  {
   "cell_type": "code",
   "execution_count": 171,
   "metadata": {
    "ExecuteTime": {
     "end_time": "2020-04-06T22:20:49.914019Z",
     "start_time": "2020-04-06T22:20:49.905458Z"
    }
   },
   "outputs": [
    {
     "data": {
      "text/html": [
       "<div>\n",
       "<style scoped>\n",
       "    .dataframe tbody tr th:only-of-type {\n",
       "        vertical-align: middle;\n",
       "    }\n",
       "\n",
       "    .dataframe tbody tr th {\n",
       "        vertical-align: top;\n",
       "    }\n",
       "\n",
       "    .dataframe thead th {\n",
       "        text-align: right;\n",
       "    }\n",
       "</style>\n",
       "<table border=\"1\" class=\"dataframe\">\n",
       "  <thead>\n",
       "    <tr style=\"text-align: right;\">\n",
       "      <th></th>\n",
       "      <th>predicted_high</th>\n",
       "      <th>predicted_low</th>\n",
       "    </tr>\n",
       "  </thead>\n",
       "  <tbody>\n",
       "    <tr>\n",
       "      <td>is_high</td>\n",
       "      <td>35</td>\n",
       "      <td>13</td>\n",
       "    </tr>\n",
       "    <tr>\n",
       "      <td>is_low</td>\n",
       "      <td>7</td>\n",
       "      <td>44</td>\n",
       "    </tr>\n",
       "  </tbody>\n",
       "</table>\n",
       "</div>"
      ],
      "text/plain": [
       "         predicted_high  predicted_low\n",
       "is_high              35             13\n",
       "is_low                7             44"
      ]
     },
     "execution_count": 171,
     "metadata": {},
     "output_type": "execute_result"
    }
   ],
   "source": [
    "yhat, yhat_pp, confusion = predictions_confusion(lr_gridsearch, X_test, y_test)\n",
    "confusion"
   ]
  },
  {
   "cell_type": "code",
   "execution_count": 172,
   "metadata": {
    "ExecuteTime": {
     "end_time": "2020-04-06T22:21:14.194719Z",
     "start_time": "2020-04-06T22:21:14.187333Z"
    }
   },
   "outputs": [
    {
     "data": {
      "text/html": [
       "<div>\n",
       "<style scoped>\n",
       "    .dataframe tbody tr th:only-of-type {\n",
       "        vertical-align: middle;\n",
       "    }\n",
       "\n",
       "    .dataframe tbody tr th {\n",
       "        vertical-align: top;\n",
       "    }\n",
       "\n",
       "    .dataframe thead th {\n",
       "        text-align: right;\n",
       "    }\n",
       "</style>\n",
       "<table border=\"1\" class=\"dataframe\">\n",
       "  <thead>\n",
       "    <tr style=\"text-align: right;\">\n",
       "      <th></th>\n",
       "      <th>low</th>\n",
       "      <th>high</th>\n",
       "    </tr>\n",
       "  </thead>\n",
       "  <tbody>\n",
       "    <tr>\n",
       "      <td>0</td>\n",
       "      <td>0.441839</td>\n",
       "      <td>0.558161</td>\n",
       "    </tr>\n",
       "    <tr>\n",
       "      <td>1</td>\n",
       "      <td>0.958529</td>\n",
       "      <td>0.041471</td>\n",
       "    </tr>\n",
       "    <tr>\n",
       "      <td>2</td>\n",
       "      <td>0.615967</td>\n",
       "      <td>0.384033</td>\n",
       "    </tr>\n",
       "    <tr>\n",
       "      <td>3</td>\n",
       "      <td>0.993411</td>\n",
       "      <td>0.006589</td>\n",
       "    </tr>\n",
       "    <tr>\n",
       "      <td>4</td>\n",
       "      <td>0.727347</td>\n",
       "      <td>0.272653</td>\n",
       "    </tr>\n",
       "  </tbody>\n",
       "</table>\n",
       "</div>"
      ],
      "text/plain": [
       "        low      high\n",
       "0  0.441839  0.558161\n",
       "1  0.958529  0.041471\n",
       "2  0.615967  0.384033\n",
       "3  0.993411  0.006589\n",
       "4  0.727347  0.272653"
      ]
     },
     "execution_count": 172,
     "metadata": {},
     "output_type": "execute_result"
    }
   ],
   "source": [
    "pp = pd.DataFrame(yhat_pp, columns=['low', 'high'])\n",
    "pp.head()"
   ]
  },
  {
   "cell_type": "code",
   "execution_count": 174,
   "metadata": {
    "ExecuteTime": {
     "end_time": "2020-04-06T22:22:10.778372Z",
     "start_time": "2020-04-06T22:22:10.776247Z"
    }
   },
   "outputs": [],
   "source": [
    "# we now want to minimise the number of false positives:"
   ]
  },
  {
   "cell_type": "code",
   "execution_count": 173,
   "metadata": {
    "ExecuteTime": {
     "end_time": "2020-04-06T22:21:26.188185Z",
     "start_time": "2020-04-06T22:21:26.067826Z"
    }
   },
   "outputs": [
    {
     "name": "stdout",
     "output_type": "stream",
     "text": [
      "Threshold: 0.01 false positives: 0.46464646464646464\n",
      "Threshold: 0.02 false positives: 0.43434343434343436\n",
      "Threshold: 0.03 false positives: 0.41414141414141414\n",
      "Threshold: 0.04 false positives: 0.40404040404040403\n",
      "Threshold: 0.05 false positives: 0.3939393939393939\n",
      "Threshold: 0.06 false positives: 0.3838383838383838\n",
      "Threshold: 0.07 false positives: 0.3838383838383838\n",
      "Threshold: 0.08 false positives: 0.36363636363636365\n",
      "Threshold: 0.09 false positives: 0.35353535353535354\n",
      "Threshold: 0.1 false positives: 0.3434343434343434\n",
      "Threshold: 0.11 false positives: 0.3333333333333333\n",
      "Threshold: 0.12 false positives: 0.3333333333333333\n",
      "Threshold: 0.13 false positives: 0.32323232323232326\n",
      "Threshold: 0.14 false positives: 0.31313131313131315\n",
      "Threshold: 0.15 false positives: 0.31313131313131315\n",
      "Threshold: 0.16 false positives: 0.31313131313131315\n",
      "Threshold: 0.17 false positives: 0.31313131313131315\n",
      "Threshold: 0.18 false positives: 0.30303030303030304\n",
      "Threshold: 0.19 false positives: 0.2828282828282828\n",
      "Threshold: 0.2 false positives: 0.2727272727272727\n",
      "Threshold: 0.21 false positives: 0.2727272727272727\n",
      "Threshold: 0.22 false positives: 0.26262626262626265\n",
      "Threshold: 0.23 false positives: 0.26262626262626265\n",
      "Threshold: 0.24 false positives: 0.26262626262626265\n",
      "Threshold: 0.25 false positives: 0.25252525252525254\n",
      "Threshold: 0.26 false positives: 0.24242424242424243\n",
      "Threshold: 0.27 false positives: 0.24242424242424243\n",
      "Threshold: 0.28 false positives: 0.2222222222222222\n",
      "Threshold: 0.29 false positives: 0.2222222222222222\n",
      "Threshold: 0.3 false positives: 0.2222222222222222\n",
      "Threshold: 0.31 false positives: 0.2222222222222222\n",
      "Threshold: 0.32 false positives: 0.21212121212121213\n",
      "Threshold: 0.33 false positives: 0.20202020202020202\n",
      "Threshold: 0.34 false positives: 0.20202020202020202\n",
      "Threshold: 0.35 false positives: 0.1919191919191919\n",
      "Threshold: 0.36 false positives: 0.1919191919191919\n",
      "Threshold: 0.37 false positives: 0.1919191919191919\n",
      "Threshold: 0.38 false positives: 0.18181818181818182\n",
      "Threshold: 0.39 false positives: 0.1717171717171717\n",
      "Threshold: 0.4 false positives: 0.1717171717171717\n",
      "Threshold: 0.41 false positives: 0.1717171717171717\n",
      "Threshold: 0.42 false positives: 0.1717171717171717\n",
      "Threshold: 0.43 false positives: 0.1717171717171717\n",
      "Threshold: 0.44 false positives: 0.1717171717171717\n",
      "Threshold: 0.45 false positives: 0.1717171717171717\n",
      "Threshold: 0.46 false positives: 0.1717171717171717\n",
      "Threshold: 0.47 false positives: 0.16161616161616163\n",
      "Threshold: 0.48 false positives: 0.15151515151515152\n",
      "Threshold: 0.49 false positives: 0.15151515151515152\n",
      "Threshold: 0.5 false positives: 0.13131313131313133\n",
      "Threshold: 0.51 false positives: 0.12121212121212122\n",
      "Threshold: 0.52 false positives: 0.1111111111111111\n",
      "Threshold: 0.53 false positives: 0.10101010101010101\n",
      "Threshold: 0.54 false positives: 0.10101010101010101\n",
      "Threshold: 0.55 false positives: 0.10101010101010101\n",
      "Threshold: 0.56 false positives: 0.09090909090909091\n",
      "Threshold: 0.57 false positives: 0.09090909090909091\n",
      "Threshold: 0.58 false positives: 0.09090909090909091\n",
      "Threshold: 0.59 false positives: 0.09090909090909091\n",
      "Threshold: 0.6 false positives: 0.09090909090909091\n",
      "Threshold: 0.61 false positives: 0.08080808080808081\n",
      "Threshold: 0.62 false positives: 0.08080808080808081\n",
      "Threshold: 0.63 false positives: 0.08080808080808081\n",
      "Threshold: 0.64 false positives: 0.08080808080808081\n",
      "Threshold: 0.65 false positives: 0.08080808080808081\n",
      "Threshold: 0.66 false positives: 0.0707070707070707\n",
      "Threshold: 0.67 false positives: 0.0707070707070707\n",
      "Threshold: 0.68 false positives: 0.0707070707070707\n",
      "Threshold: 0.69 false positives: 0.0707070707070707\n",
      "Threshold: 0.7 false positives: 0.0707070707070707\n",
      "Threshold: 0.71 false positives: 0.0707070707070707\n",
      "Threshold: 0.72 false positives: 0.0707070707070707\n",
      "Threshold: 0.73 false positives: 0.0707070707070707\n",
      "Threshold: 0.74 false positives: 0.0707070707070707\n",
      "Threshold: 0.75 false positives: 0.0707070707070707\n",
      "Threshold: 0.76 false positives: 0.06060606060606061\n",
      "Threshold: 0.77 false positives: 0.06060606060606061\n",
      "Threshold: 0.78 false positives: 0.06060606060606061\n",
      "Threshold: 0.79 false positives: 0.06060606060606061\n",
      "Threshold: 0.8 false positives: 0.06060606060606061\n",
      "Threshold: 0.81 false positives: 0.06060606060606061\n",
      "Threshold: 0.82 false positives: 0.06060606060606061\n",
      "Threshold: 0.83 false positives: 0.06060606060606061\n",
      "Threshold: 0.84 false positives: 0.050505050505050504\n",
      "Threshold: 0.85 false positives: 0.04040404040404041\n",
      "Threshold: 0.86 false positives: 0.04040404040404041\n",
      "Threshold: 0.87 false positives: 0.030303030303030304\n",
      "Threshold: 0.88 false positives: 0.020202020202020204\n",
      "Threshold: 0.89 false positives: 0.020202020202020204\n",
      "Threshold: 0.9 false positives: 0.020202020202020204\n",
      "Threshold: 0.91 false positives: 0.020202020202020204\n",
      "Threshold: 0.92 false positives: 0.020202020202020204\n",
      "Threshold: 0.93 false positives: 0.020202020202020204\n",
      "Threshold: 0.94 false positives: 0.010101010101010102\n",
      "Threshold: 0.95 false positives: 0.010101010101010102\n",
      "Threshold: 0.96 false positives: 0.0\n",
      "Threshold: 0.97 false positives: 0.0\n",
      "Threshold: 0.98 false positives: 0.0\n",
      "Threshold: 0.99 false positives: 0.0\n"
     ]
    }
   ],
   "source": [
    "false_positives = []\n",
    "for thresh in np.arange(1, 100)/100.:\n",
    "    labeled_high = np.array([1 if x >= thresh else 0 for x in pp.high.values])\n",
    "    fp = np.mean((y_test == 0) & (labeled_high == 1))\n",
    "    false_positives.append((thresh, fp))\n",
    "    print('Threshold:', thresh, 'false positives:', fp)"
   ]
  },
  {
   "cell_type": "code",
   "execution_count": null,
   "metadata": {},
   "outputs": [],
   "source": [
    "# changing the thresholf as shown above can reduce the rate of false positives to 0\n",
    "# however, this will also massively increases the number of false negatives\n",
    "# a good balance needs to be found."
   ]
  },
  {
   "cell_type": "code",
   "execution_count": 175,
   "metadata": {
    "ExecuteTime": {
     "end_time": "2020-04-06T22:25:39.425874Z",
     "start_time": "2020-04-06T22:25:39.352075Z"
    }
   },
   "outputs": [
    {
     "name": "stdout",
     "output_type": "stream",
     "text": [
      "Threshold: 0.01 Correct predictions: 0.5353535353535354\n",
      "Threshold: 0.02 Correct predictions: 0.5656565656565656\n",
      "Threshold: 0.03 Correct predictions: 0.5858585858585859\n",
      "Threshold: 0.04 Correct predictions: 0.5959595959595959\n",
      "Threshold: 0.05 Correct predictions: 0.5959595959595959\n",
      "Threshold: 0.06 Correct predictions: 0.6060606060606061\n",
      "Threshold: 0.07 Correct predictions: 0.6060606060606061\n",
      "Threshold: 0.08 Correct predictions: 0.6262626262626263\n",
      "Threshold: 0.09 Correct predictions: 0.6363636363636364\n",
      "Threshold: 0.1 Correct predictions: 0.6464646464646465\n",
      "Threshold: 0.11 Correct predictions: 0.6565656565656566\n",
      "Threshold: 0.12 Correct predictions: 0.6565656565656566\n",
      "Threshold: 0.13 Correct predictions: 0.6666666666666666\n",
      "Threshold: 0.14 Correct predictions: 0.6767676767676768\n",
      "Threshold: 0.15 Correct predictions: 0.6767676767676768\n",
      "Threshold: 0.16 Correct predictions: 0.6767676767676768\n",
      "Threshold: 0.17 Correct predictions: 0.6666666666666666\n",
      "Threshold: 0.18 Correct predictions: 0.6767676767676768\n",
      "Threshold: 0.19 Correct predictions: 0.6868686868686869\n",
      "Threshold: 0.2 Correct predictions: 0.696969696969697\n",
      "Threshold: 0.21 Correct predictions: 0.696969696969697\n",
      "Threshold: 0.22 Correct predictions: 0.7070707070707071\n",
      "Threshold: 0.23 Correct predictions: 0.7070707070707071\n",
      "Threshold: 0.24 Correct predictions: 0.7070707070707071\n",
      "Threshold: 0.25 Correct predictions: 0.7171717171717171\n",
      "Threshold: 0.26 Correct predictions: 0.7272727272727273\n",
      "Threshold: 0.27 Correct predictions: 0.7272727272727273\n",
      "Threshold: 0.28 Correct predictions: 0.7474747474747475\n",
      "Threshold: 0.29 Correct predictions: 0.7474747474747475\n",
      "Threshold: 0.3 Correct predictions: 0.7474747474747475\n",
      "Threshold: 0.31 Correct predictions: 0.7474747474747475\n",
      "Threshold: 0.32 Correct predictions: 0.7575757575757576\n",
      "Threshold: 0.33 Correct predictions: 0.7676767676767676\n",
      "Threshold: 0.34 Correct predictions: 0.7676767676767676\n",
      "Threshold: 0.35 Correct predictions: 0.7777777777777778\n",
      "Threshold: 0.36 Correct predictions: 0.7777777777777778\n",
      "Threshold: 0.37 Correct predictions: 0.7676767676767676\n",
      "Threshold: 0.38 Correct predictions: 0.7777777777777778\n",
      "Threshold: 0.39 Correct predictions: 0.7777777777777778\n",
      "Threshold: 0.4 Correct predictions: 0.7777777777777778\n",
      "Threshold: 0.41 Correct predictions: 0.7777777777777778\n",
      "Threshold: 0.42 Correct predictions: 0.7676767676767676\n",
      "Threshold: 0.43 Correct predictions: 0.7575757575757576\n",
      "Threshold: 0.44 Correct predictions: 0.7575757575757576\n",
      "Threshold: 0.45 Correct predictions: 0.7575757575757576\n",
      "Threshold: 0.46 Correct predictions: 0.7575757575757576\n",
      "Threshold: 0.47 Correct predictions: 0.7676767676767676\n",
      "Threshold: 0.48 Correct predictions: 0.7777777777777778\n",
      "Threshold: 0.49 Correct predictions: 0.7777777777777778\n",
      "Threshold: 0.5 Correct predictions: 0.797979797979798\n",
      "Threshold: 0.51 Correct predictions: 0.797979797979798\n",
      "Threshold: 0.52 Correct predictions: 0.797979797979798\n",
      "Threshold: 0.53 Correct predictions: 0.8080808080808081\n",
      "Threshold: 0.54 Correct predictions: 0.8080808080808081\n",
      "Threshold: 0.55 Correct predictions: 0.8080808080808081\n",
      "Threshold: 0.56 Correct predictions: 0.8080808080808081\n",
      "Threshold: 0.57 Correct predictions: 0.797979797979798\n",
      "Threshold: 0.58 Correct predictions: 0.797979797979798\n",
      "Threshold: 0.59 Correct predictions: 0.7878787878787878\n",
      "Threshold: 0.6 Correct predictions: 0.7878787878787878\n",
      "Threshold: 0.61 Correct predictions: 0.797979797979798\n",
      "Threshold: 0.62 Correct predictions: 0.7878787878787878\n",
      "Threshold: 0.63 Correct predictions: 0.7878787878787878\n",
      "Threshold: 0.64 Correct predictions: 0.7878787878787878\n",
      "Threshold: 0.65 Correct predictions: 0.7878787878787878\n",
      "Threshold: 0.66 Correct predictions: 0.797979797979798\n",
      "Threshold: 0.67 Correct predictions: 0.7878787878787878\n",
      "Threshold: 0.68 Correct predictions: 0.7777777777777778\n",
      "Threshold: 0.69 Correct predictions: 0.7676767676767676\n",
      "Threshold: 0.7 Correct predictions: 0.7575757575757576\n",
      "Threshold: 0.71 Correct predictions: 0.7474747474747475\n",
      "Threshold: 0.72 Correct predictions: 0.7474747474747475\n",
      "Threshold: 0.73 Correct predictions: 0.7474747474747475\n",
      "Threshold: 0.74 Correct predictions: 0.7474747474747475\n",
      "Threshold: 0.75 Correct predictions: 0.7272727272727273\n",
      "Threshold: 0.76 Correct predictions: 0.7171717171717171\n",
      "Threshold: 0.77 Correct predictions: 0.7171717171717171\n",
      "Threshold: 0.78 Correct predictions: 0.7070707070707071\n",
      "Threshold: 0.79 Correct predictions: 0.7070707070707071\n",
      "Threshold: 0.8 Correct predictions: 0.6767676767676768\n",
      "Threshold: 0.81 Correct predictions: 0.6666666666666666\n",
      "Threshold: 0.82 Correct predictions: 0.6565656565656566\n",
      "Threshold: 0.83 Correct predictions: 0.6464646464646465\n",
      "Threshold: 0.84 Correct predictions: 0.6464646464646465\n",
      "Threshold: 0.85 Correct predictions: 0.6565656565656566\n",
      "Threshold: 0.86 Correct predictions: 0.6565656565656566\n",
      "Threshold: 0.87 Correct predictions: 0.6666666666666666\n",
      "Threshold: 0.88 Correct predictions: 0.6767676767676768\n",
      "Threshold: 0.89 Correct predictions: 0.6666666666666666\n",
      "Threshold: 0.9 Correct predictions: 0.6565656565656566\n",
      "Threshold: 0.91 Correct predictions: 0.6363636363636364\n",
      "Threshold: 0.92 Correct predictions: 0.6363636363636364\n",
      "Threshold: 0.93 Correct predictions: 0.6262626262626263\n",
      "Threshold: 0.94 Correct predictions: 0.6161616161616161\n",
      "Threshold: 0.95 Correct predictions: 0.6161616161616161\n",
      "Threshold: 0.96 Correct predictions: 0.6161616161616161\n",
      "Threshold: 0.97 Correct predictions: 0.6060606060606061\n",
      "Threshold: 0.98 Correct predictions: 0.5555555555555556\n",
      "Threshold: 0.99 Correct predictions: 0.5353535353535354\n"
     ]
    }
   ],
   "source": [
    "accuracies = []\n",
    "for thresh in np.arange(1, 100)/100.:\n",
    "    labeled_high = np.array([1 if x >= thresh else 0 for x in pp.high.values])\n",
    "    acc = np.mean(y_test==labeled_high)\n",
    "    accuracies.append((thresh, acc))\n",
    "    print('Threshold:', thresh, 'Correct predictions:', acc)"
   ]
  },
  {
   "cell_type": "code",
   "execution_count": 177,
   "metadata": {
    "ExecuteTime": {
     "end_time": "2020-04-06T22:27:14.544594Z",
     "start_time": "2020-04-06T22:27:14.359615Z"
    }
   },
   "outputs": [],
   "source": [
    "import matplotlib.pyplot as plt"
   ]
  },
  {
   "cell_type": "code",
   "execution_count": 178,
   "metadata": {
    "ExecuteTime": {
     "end_time": "2020-04-06T22:27:15.888884Z",
     "start_time": "2020-04-06T22:27:15.584109Z"
    }
   },
   "outputs": [
    {
     "data": {
      "image/png": "[encoded data removed]",
      "text/plain": [
       "<Figure size 432x288 with 1 Axes>"
      ]
     },
     "metadata": {
      "needs_background": "light"
     },
     "output_type": "display_data"
    }
   ],
   "source": [
    "false_positives = np.array(false_positives)\n",
    "accuracies = np.array(accuracies)\n",
    "plt.plot(false_positives[:, 0], false_positives[:, 1], label='false positives')\n",
    "plt.plot(accuracies[:, 0], accuracies[:, 1], label='accuracies')\n",
    "plt.legend()\n",
    "plt.xlabel('threshold')\n",
    "plt.show()"
   ]
  },
  {
   "cell_type": "code",
   "execution_count": 179,
   "metadata": {
    "ExecuteTime": {
     "end_time": "2020-04-06T22:28:40.943053Z",
     "start_time": "2020-04-06T22:28:40.940785Z"
    }
   },
   "outputs": [],
   "source": [
    "# this shows that a threshold of around 0.6 would maximise accuracy, as well as keeping false positives low"
   ]
  },
  {
   "cell_type": "code",
   "execution_count": 186,
   "metadata": {
    "ExecuteTime": {
     "end_time": "2020-04-07T15:04:13.711996Z",
     "start_time": "2020-04-07T15:04:13.709211Z"
    }
   },
   "outputs": [],
   "source": [
    "from sklearn.metrics import roc_curve, auc\n",
    "from sklearn.metrics import roc_curve, auc, precision_recall_curve, average_precision_score"
   ]
  },
  {
   "cell_type": "code",
   "execution_count": 181,
   "metadata": {
    "ExecuteTime": {
     "end_time": "2020-04-06T22:30:20.852656Z",
     "start_time": "2020-04-06T22:30:20.847137Z"
    }
   },
   "outputs": [],
   "source": [
    "fpr, tpr, threshold = roc_curve(y_test, yhat_pp[:, 1])\n",
    "roc_auc = auc(fpr, tpr)"
   ]
  },
  {
   "cell_type": "code",
   "execution_count": 183,
   "metadata": {
    "ExecuteTime": {
     "end_time": "2020-04-06T22:31:07.469569Z",
     "start_time": "2020-04-06T22:31:07.305929Z"
    }
   },
   "outputs": [
    {
     "data": {
      "image/png": "[encoded data removed]",
      "text/plain": [
       "<Figure size 432x432 with 1 Axes>"
      ]
     },
     "metadata": {
      "needs_background": "light"
     },
     "output_type": "display_data"
    }
   ],
   "source": [
    "fig, ax = plt.subplots(figsize=(6, 6))\n",
    "\n",
    "ax.plot(fpr, tpr, label='Original (area = %0.3f)' % roc_auc, linewidth=4)\n",
    "ax.plot([0, 1], [0, 1], 'k--', linewidth=4)\n",
    "\n",
    "ax.set_xlim([-0.05, 1.0])\n",
    "ax.set_ylim([-0.05, 1.05])\n",
    "ax.set_xlabel('False Positive Rate', fontsize=18)\n",
    "ax.set_ylabel('True Positive Rate', fontsize=18)\n",
    "ax.set_title('Receiver operating characteristic: is high', fontsize=18)\n",
    "ax.legend(loc=\"lower right\")\n",
    "\n",
    "plt.show()"
   ]
  },
  {
   "cell_type": "markdown",
   "metadata": {
    "focus": false,
    "id": "4fb29de2-5b98-474c-a4ad-5170b72b9aea"
   },
   "source": [
    "<img src=\"http://imgur.com/xDpSobf.png\" style=\"float: left; margin: 25px 15px 0px 0px; height: 25px\">\n",
    "\n",
    "### Bonus:\n",
    "\n",
    "- Answer the salary discussion by using your model to explain the tradeoffs between detecting high vs low salary positions. \n",
    "- Discuss the differences and explain when you want a high-recall or a high-precision model in this scenario.\n",
    "- Obtain the ROC/precision-recall curves for the different models you studied (at least the tuned model of each category) and compare."
   ]
  },
  {
   "cell_type": "code",
   "execution_count": null,
   "metadata": {
    "focus": false,
    "id": "068dc1cf-7fd7-4f27-a1f1-7f0a5a221d29"
   },
   "outputs": [],
   "source": [
    "# I have discussed some of the differences of high-recall vs high-precision.\n",
    "# To summarise, high precision will minimise the number of false positives\n",
    "# high recall will minimise the number of false negatives\n",
    "# In this case, the client would rather someone be told they will incorrectly\n",
    "# get a lower salary (FN) than a higher salary (FP)\n",
    "# Therefore, a high precision model would be preferred"
   ]
  },
  {
   "cell_type": "code",
   "execution_count": 184,
   "metadata": {
    "ExecuteTime": {
     "end_time": "2020-04-07T10:26:00.713450Z",
     "start_time": "2020-04-07T10:26:00.703440Z"
    }
   },
   "outputs": [],
   "source": [
    "# The ROC curve is above"
   ]
  },
  {
   "cell_type": "markdown",
   "metadata": {},
   "source": [
    "### Summarize your results in an executive summary written for a non-technical audience.\n",
    "   \n",
    "- Writeups should be at least 500-1000 words, defining any technical terms, explaining your approach, as well as any risks and limitations."
   ]
  },
  {
   "cell_type": "code",
   "execution_count": null,
   "metadata": {},
   "outputs": [],
   "source": [
    "## YOUR TEXT HERE IN MARKDOWN FORMAT "
   ]
  },
  {
   "cell_type": "markdown",
   "metadata": {},
   "source": [
    "<img src=\"http://imgur.com/xDpSobf.png\" style=\"float: left; margin: 25px 15px 0px 0px; height: 25px\">\n",
    "\n",
    "### BONUS\n",
    "\n",
    "Convert your executive summary into a public blog post of at least 500 words, in which you document your approach in a tutorial for other aspiring data scientists. Link to this in your notebook."
   ]
  },
  {
   "cell_type": "code",
   "execution_count": null,
   "metadata": {},
   "outputs": [],
   "source": [
    "## YOUR LINK HERE IN MARKDOWN FORMAT "
   ]
  }
 ],
 "metadata": {
  "kernelspec": {
   "display_name": "Python 3",
   "language": "python",
   "name": "python3"
  },
  "language_info": {
   "codemirror_mode": {
    "name": "ipython",
    "version": 3
   },
   "file_extension": ".py",
   "mimetype": "text/x-python",
   "name": "python",
   "nbconvert_exporter": "python",
   "pygments_lexer": "ipython3",
   "version": "3.7.4"
  },
  "toc": {
   "base_numbering": 1,
   "nav_menu": {},
   "number_sections": false,
   "sideBar": true,
   "skip_h1_title": true,
   "title_cell": "Table of Contents",
   "title_sidebar": "Contents",
   "toc_cell": false,
   "toc_position": {},
   "toc_section_display": "block",
   "toc_window_display": false
  },
  "varInspector": {
   "cols": {
    "lenName": 16,
    "lenType": 16,
    "lenVar": 40
   },
   "kernels_config": {
    "python": {
     "delete_cmd_postfix": "",
     "delete_cmd_prefix": "del ",
     "library": "var_list.py",
     "varRefreshCmd": "print(var_dic_list())"
    },
    "r": {
     "delete_cmd_postfix": ") ",
     "delete_cmd_prefix": "rm(",
     "library": "var_list.r",
     "varRefreshCmd": "cat(var_dic_list()) "
    }
   },
   "types_to_exclude": [
    "module",
    "function",
    "builtin_function_or_method",
    "instance",
    "_Feature"
   ],
   "window_display": false
  }
 },
 "nbformat": 4,
 "nbformat_minor": 1
}
